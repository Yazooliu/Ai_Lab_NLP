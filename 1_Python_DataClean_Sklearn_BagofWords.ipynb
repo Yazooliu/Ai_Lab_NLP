{
 "cells": [
  {
   "cell_type": "code",
   "execution_count": null,
   "metadata": {},
   "outputs": [],
   "source": [
    "#---------------------\n",
    "# Modify Date \n",
    "#    2018- 10 -10\n",
    "# Purpose:\n",
    "#    1. Use python to data clean and \n",
    "#    a. reading data by pandas.read_csv; b. remove <br> from HTML text format\n",
    "#    c. 将字母以外的数据全部替换为空格 ' ' [^a-zA-Z] to \" \" d. 全部转成小写字母形式lower(); \n",
    "#    e. remove stops words \n",
    "#    2. Build bag of word \n",
    "#---------------------"
   ]
  },
  {
   "cell_type": "code",
   "execution_count": 12,
   "metadata": {},
   "outputs": [],
   "source": [
    "import os\n",
    "import re\n",
    "import pandas as pd\n",
    "import numpy as np\n",
    "from bs4 import BeautifulSoup\n",
    "from sklearn.feature_extraction.text import CountVectorizer\n",
    "from sklearn.ensemble import RandomForestClassifier\n",
    "from sklearn.metrics import confusion_matrix\n",
    "\n",
    "import nltk\n",
    "#nltk.download()  #  has already install this model \n",
    "from nltk.corpus import stopwords"
   ]
  },
  {
   "cell_type": "markdown",
   "metadata": {},
   "source": [
    "### 1 Using pandas to read data sets"
   ]
  },
  {
   "cell_type": "code",
   "execution_count": 24,
   "metadata": {},
   "outputs": [
    {
     "name": "stdout",
     "output_type": "stream",
     "text": [
      "Numbers of reviews : 25000\n",
      "行数表示样本数量，列变表示样本特征，sentiment表示标准便签 0或者1 , view 是文本\n"
     ]
    },
    {
     "data": {
      "text/plain": [
       "(25000, 3)"
      ]
     },
     "execution_count": 24,
     "metadata": {},
     "output_type": "execute_result"
    }
   ],
   "source": [
    "Data_ReadingFile  = os.path.join('data','labeledTrainData.tsv')\n",
    "Data_Sets = pd.read_csv(Data_ReadingFile,sep= '\\t',escapechar='\\\\')  #读取文件，以table键做分割 sep='\\t'，转义:escapechar='\\\\'\n",
    "\n",
    "print('Numbers of reviews : {}'.format(len(Data_Sets)))\n",
    "Data_Sets.head()\n",
    "print(\"行数表示样本数量，列变表示样本特征，sentiment表示标准便签 0或者1 , view 是文本\")\n",
    "Data_Sets.shape"
   ]
  },
  {
   "cell_type": "code",
   "execution_count": null,
   "metadata": {},
   "outputs": [],
   "source": []
  }
 ],
 "metadata": {
  "kernelspec": {
   "display_name": "Python 2",
   "language": "python",
   "name": "python2"
  },
  "language_info": {
   "codemirror_mode": {
    "name": "ipython",
    "version": 2
   },
   "file_extension": ".py",
   "mimetype": "text/x-python",
   "name": "python",
   "nbconvert_exporter": "python",
   "pygments_lexer": "ipython2",
   "version": "2.7.15"
  }
 },
 "nbformat": 4,
 "nbformat_minor": 2
}
