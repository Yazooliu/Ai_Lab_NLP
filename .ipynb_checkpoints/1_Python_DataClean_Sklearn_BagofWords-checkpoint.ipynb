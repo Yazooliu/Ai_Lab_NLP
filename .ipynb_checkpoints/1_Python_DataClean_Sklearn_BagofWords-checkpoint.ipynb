{
 "cells": [
  {
   "cell_type": "code",
   "execution_count": null,
   "metadata": {},
   "outputs": [],
   "source": [
    "#---------------------\n",
    "# Modify Date \n",
    "#    2018- 10 -10\n",
    "# Purpose:\n",
    "#    1. Use python to data clean and \n",
    "#    a. reading data by pandas.read_csv; b. remove <br> from HTML text format\n",
    "#    c. 将字母以外的数据全部替换为空格 ' ' [^a-zA-Z] to \" \" d. 全部转成小写字母形式lower(); \n",
    "#    e. remove stops words \n",
    "#    2. Build bag of word \n",
    "#---------------------"
   ]
  }
 ],
 "metadata": {
  "kernelspec": {
   "display_name": "Python 3",
   "language": "python",
   "name": "python3"
  },
  "language_info": {
   "codemirror_mode": {
    "name": "ipython",
    "version": 3
   },
   "file_extension": ".py",
   "mimetype": "text/x-python",
   "name": "python",
   "nbconvert_exporter": "python",
   "pygments_lexer": "ipython3",
   "version": "3.6.3"
  }
 },
 "nbformat": 4,
 "nbformat_minor": 2
}
