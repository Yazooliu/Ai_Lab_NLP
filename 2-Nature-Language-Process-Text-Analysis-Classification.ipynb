{
 "cells": [
  {
   "cell_type": "markdown",
   "metadata": {},
   "source": [
    "### 词云/TF-IDF 关键词提取/主题模型和文本分析/文本类型预测"
   ]
  },
  {
   "cell_type": "code",
   "execution_count": 1,
   "metadata": {
    "collapsed": true
   },
   "outputs": [],
   "source": [
    "##  Copyright private in 2018 \n",
    "#  Modify Date: \n",
    "#          2018 - 9 - 18 \n",
    "#  Purpose :  词云/TF-IDF 关键词提取/主题模型和文本分析/文本类型预测\n",
    "# \n",
    "# ----------"
   ]
  },
  {
   "cell_type": "code",
   "execution_count": 1,
   "metadata": {},
   "outputs": [
    {
     "data": {
      "text/plain": [
       "'2.7.9 (default, Dec 10 2014, 12:28:03) [MSC v.1500 64 bit (AMD64)]'"
      ]
     },
     "execution_count": 1,
     "metadata": {},
     "output_type": "execute_result"
    }
   ],
   "source": [
    "import sys \n",
    "sys.version"
   ]
  },
  {
   "cell_type": "code",
   "execution_count": 2,
   "metadata": {},
   "outputs": [],
   "source": [
    "#coding:utf-8\n",
    "__author__ = 'naturelanguageprocessing'\n",
    "import warnings\n",
    "import numpy\n",
    "warnings.filterwarnings(\"ignore\")\n",
    "import jieba\n",
    "import codecs # codecs 提供的open 方法来指定打开的文件的语言编码，他会在读取的时候\n",
    "import numpy as np\n",
    "import matplotlib.pyplot as plt \n",
    "import pandas as pd\n",
    "import matplotlib \n",
    "#%matplotlib inline  #嵌入中显示图片显示\n",
    "matplotlib.rcParams['figure.figsize']  = (10.0,5.0)  # figure size 大小\n",
    "from wordcloud import WordCloud # 词云"
   ]
  },
  {
   "cell_type": "code",
   "execution_count": 3,
   "metadata": {},
   "outputs": [
    {
     "name": "stderr",
     "output_type": "stream",
     "text": [
      "Building prefix dict from the default dictionary ...\n",
      "Loading model from cache c:\\users\\h155809\\appdata\\local\\temp\\jieba.cache\n",
      "Loading model cost 0.575 seconds.\n",
      "Prefix dict has been built succesfully.\n"
     ]
    }
   ],
   "source": [
    "#df  = pd.read_csv('./data/entertainment_news.csv',names = ['url','contenttitle','content','label'],encoding = 'utf-8')\n",
    "#df  = pd.read_csv(r'C:\\Users\\H155809\\out.csv',encoding = 'utf-8')\n",
    "#df  = pd.read_csv('C:\\\\Users\\\\H155809\\\\out.csv',encoding = 'utf-8')\n",
    "df  = pd.read_csv(\"./data/military_news.csv\",encoding = 'utf-8')\n",
    "df  = df.dropna()  # drop掉可能为空的行数\n",
    "content  = df.content.values.tolist()  #取出数据中的content列，通过values tolist 转成Python列表\n",
    "\n",
    "#segment initial\n",
    "segment = [] #new list - 存储所有分完词的list \n",
    "for line in content:\n",
    "    try:\n",
    "        segs = jieba.lcut(line)  # lcut:listcut - segs is list\n",
    "        for seg in segs:\n",
    "            if len(seg)>1 and seg!='\\r\\n':  #新闻的文本>1非空 同时不等于换行 等赋值给segment \n",
    "                segment.append(seg)\n",
    "    except:   #异常的话 print line \n",
    "        print(line) \n",
    "        continue"
   ]
  },
  {
   "cell_type": "code",
   "execution_count": 4,
   "metadata": {},
   "outputs": [
    {
     "data": {
      "text/plain": [
       "array([u'\\u3000\\u3000\\u4e2d\\u56fd\\u56fd\\u9632\\u5de5\\u4e1a\\u4f01\\u4e1a\\u519b\\u6c11\\u878d\\u5408\\u4ea7\\u4e1a\\u8054\\u76df8\\u65e5\\u5728\\u5317\\u4eac\\u5ba3\\u5e03\\u6210\\u7acb\\u3002\\u5218\\u4e1c\\u594e\\u8bf4\\uff0c\\u9002\\u65f6\\u6210\\u7acb\\u8054\\u76df\\uff0c\\u575a\\u6301\\u201c\\u519b\\u6c11\\u878d\\u5408\\u3001\\u51dd\\u805a\\u8d44\\u6e90\\u3001\\u534f\\u540c\\u521b\\u65b0\\u3001\\u670d\\u52a1\\u4ea7\\u4e1a\\u201d\\u4e3a\\u5b97\\u65e8\\uff0c\\u6709\\u671b\\u63a8\\u52a8\\u519b\\u6c11\\u878d\\u5408\\u4ea7\\u4e1a\\u6548\\u76ca\\u6700\\u5927\\u5316\\u3001\\u52a9\\u529b\\u4f01\\u4e1a\\u81ea\\u8eab\\u6838\\u5fc3\\u4e1a\\u52a1\\u62d3\\u5c55\\u3002'],\n",
       "      dtype=object)"
      ]
     },
     "execution_count": 4,
     "metadata": {},
     "output_type": "execute_result"
    }
   ],
   "source": [
    "cuted  = jieba.lcut(content[0])\n",
    "df.content.values[1:2]"
   ]
  },
  {
   "cell_type": "code",
   "execution_count": 5,
   "metadata": {},
   "outputs": [
    {
     "name": "stdout",
     "output_type": "stream",
     "text": [
      "新华社 北京 日电 记者 董瑞丰 军民 融合\n"
     ]
    }
   ],
   "source": [
    "print segment[0],segment[1],segment[2],segment[3],segment[4],segment[5],segment[6]"
   ]
  },
  {
   "cell_type": "code",
   "execution_count": 6,
   "metadata": {},
   "outputs": [
    {
     "data": {
      "text/plain": [
       "(u'\\u65b0\\u534e\\u793e',\n",
       " u'\\u5317\\u4eac',\n",
       " u'\\u65e5\\u7535',\n",
       " u'\\u8bb0\\u8005',\n",
       " u'\\u8463\\u745e\\u4e30',\n",
       " u'\\u519b\\u6c11',\n",
       " u'\\u878d\\u5408')"
      ]
     },
     "execution_count": 6,
     "metadata": {},
     "output_type": "execute_result"
    }
   ],
   "source": [
    "segment[0],segment[1],segment[2],segment[3],segment[4],segment[5],segment[6]"
   ]
  },
  {
   "cell_type": "code",
   "execution_count": 7,
   "metadata": {},
   "outputs": [
    {
     "name": "stdout",
     "output_type": "stream",
     "text": [
      "　　新华社北京1月8日电(记者董瑞丰)军民融合发展已经上升为国家战略，但现阶段国防工业企业军民融合深度发展仍面临一系列问题。中国国防工业企业协会会长刘东奎8日表示，将建立军转民与民参军、技术创新与成果转化、产业促进、金融服务和国际合作五大服务平台，促进军民资源双向转移、良性互动。\n"
     ]
    }
   ],
   "source": [
    "print content[0]"
   ]
  },
  {
   "cell_type": "code",
   "execution_count": 8,
   "metadata": {},
   "outputs": [
    {
     "name": "stdout",
     "output_type": "stream",
     "text": [
      "　　中国国防工业企业军民融合产业联盟8日在北京宣布成立。刘东奎说，适时成立联盟，坚持“军民融合、凝聚资源、协同创新、服务产业”为宗旨，有望推动军民融合产业效益最大化、助力企业自身核心业务拓展。\n"
     ]
    }
   ],
   "source": [
    "print content[1]"
   ]
  },
  {
   "cell_type": "code",
   "execution_count": 9,
   "metadata": {},
   "outputs": [
    {
     "data": {
      "text/html": [
       "<div>\n",
       "<style scoped>\n",
       "    .dataframe tbody tr th:only-of-type {\n",
       "        vertical-align: middle;\n",
       "    }\n",
       "\n",
       "    .dataframe tbody tr th {\n",
       "        vertical-align: top;\n",
       "    }\n",
       "\n",
       "    .dataframe thead th {\n",
       "        text-align: right;\n",
       "    }\n",
       "</style>\n",
       "<table border=\"1\" class=\"dataframe\">\n",
       "  <thead>\n",
       "    <tr style=\"text-align: right;\">\n",
       "      <th></th>\n",
       "      <th>Unnamed: 0</th>\n",
       "      <th>content</th>\n",
       "    </tr>\n",
       "  </thead>\n",
       "  <tbody>\n",
       "    <tr>\n",
       "      <th>0</th>\n",
       "      <td>0</td>\n",
       "      <td>新华社北京1月8日电(记者董瑞丰)军民融合发展已经上升为国家战略，但现阶段国防工业企业军...</td>\n",
       "    </tr>\n",
       "    <tr>\n",
       "      <th>1</th>\n",
       "      <td>1</td>\n",
       "      <td>中国国防工业企业军民融合产业联盟8日在北京宣布成立。刘东奎说，适时成立联盟，坚持“军民融...</td>\n",
       "    </tr>\n",
       "    <tr>\n",
       "      <th>2</th>\n",
       "      <td>2</td>\n",
       "      <td>数据显示，我国目前有十几万家民营高新技术企业，很多高新技术企业在新能源、新材料、电子信息...</td>\n",
       "    </tr>\n",
       "    <tr>\n",
       "      <th>3</th>\n",
       "      <td>3</td>\n",
       "      <td>对于现阶段军民融合面临的问题，刘东奎列举：从企业外部来看，军民融合管理体制不够顺畅，军民...</td>\n",
       "    </tr>\n",
       "    <tr>\n",
       "      <th>4</th>\n",
       "      <td>4</td>\n",
       "      <td>“国防科技工业是军民融合的天然载体和核心领域。”刘东奎说，未来要着力搭建军民协同创新展示...</td>\n",
       "    </tr>\n",
       "  </tbody>\n",
       "</table>\n",
       "</div>"
      ],
      "text/plain": [
       "   Unnamed: 0                                            content\n",
       "0           0  　　新华社北京1月8日电(记者董瑞丰)军民融合发展已经上升为国家战略，但现阶段国防工业企业军...\n",
       "1           1  　　中国国防工业企业军民融合产业联盟8日在北京宣布成立。刘东奎说，适时成立联盟，坚持“军民融...\n",
       "2           2  　　数据显示，我国目前有十几万家民营高新技术企业，很多高新技术企业在新能源、新材料、电子信息...\n",
       "3           3  　　对于现阶段军民融合面临的问题，刘东奎列举：从企业外部来看，军民融合管理体制不够顺畅，军民...\n",
       "4           4  　　“国防科技工业是军民融合的天然载体和核心领域。”刘东奎说，未来要着力搭建军民协同创新展示..."
      ]
     },
     "execution_count": 9,
     "metadata": {},
     "output_type": "execute_result"
    }
   ],
   "source": [
    "df.head()"
   ]
  },
  {
   "cell_type": "markdown",
   "metadata": {},
   "source": [
    "# (一) 生成词云"
   ]
  },
  {
   "cell_type": "markdown",
   "metadata": {},
   "source": [
    "### 2.Remove Stopwords"
   ]
  },
  {
   "cell_type": "code",
   "execution_count": 10,
   "metadata": {},
   "outputs": [
    {
     "data": {
      "text/html": [
       "<div>\n",
       "<style scoped>\n",
       "    .dataframe tbody tr th:only-of-type {\n",
       "        vertical-align: middle;\n",
       "    }\n",
       "\n",
       "    .dataframe tbody tr th {\n",
       "        vertical-align: top;\n",
       "    }\n",
       "\n",
       "    .dataframe thead th {\n",
       "        text-align: right;\n",
       "    }\n",
       "</style>\n",
       "<table border=\"1\" class=\"dataframe\">\n",
       "  <thead>\n",
       "    <tr style=\"text-align: right;\">\n",
       "      <th></th>\n",
       "      <th>segment</th>\n",
       "      <th>计数</th>\n",
       "    </tr>\n",
       "  </thead>\n",
       "  <tbody>\n",
       "    <tr>\n",
       "      <th>4149</th>\n",
       "      <td>中国</td>\n",
       "      <td>3661</td>\n",
       "    </tr>\n",
       "    <tr>\n",
       "      <th>39156</th>\n",
       "      <td>美国</td>\n",
       "      <td>1881</td>\n",
       "    </tr>\n",
       "    <tr>\n",
       "      <th>32122</th>\n",
       "      <td>海军</td>\n",
       "      <td>1880</td>\n",
       "    </tr>\n",
       "    <tr>\n",
       "      <th>42623</th>\n",
       "      <td>训练</td>\n",
       "      <td>1771</td>\n",
       "    </tr>\n",
       "    <tr>\n",
       "      <th>40575</th>\n",
       "      <td>航母</td>\n",
       "      <td>1768</td>\n",
       "    </tr>\n",
       "  </tbody>\n",
       "</table>\n",
       "</div>"
      ],
      "text/plain": [
       "      segment    计数\n",
       "4149       中国  3661\n",
       "39156      美国  1881\n",
       "32122      海军  1880\n",
       "42623      训练  1771\n",
       "40575      航母  1768"
      ]
     },
     "execution_count": 10,
     "metadata": {},
     "output_type": "execute_result"
    }
   ],
   "source": [
    "import pandas as pd \n",
    "words_df = pd.DataFrame({'segment':segment})\n",
    "\n",
    "# 读取stopwords 表\n",
    "stopwords = pd.read_csv(\"./data/stopwords_NLP.txt\", index_col = False, quoting = 3,sep = \"\\t\",names = ['stopword'], encoding = 'utf-8')\n",
    "# stopwards.head()\n",
    "\n",
    "# 3.词频统计\n",
    "words_df = words_df[~words_df.segment.isin(stopwords.stopword)]  #分完词后的segment 词中，不再停用词当中的词取出来保留。\n",
    "#print words_df\n",
    "# 按照sgement 来分组并通过聚合agg 来统计出的频次\n",
    "words_stat = words_df.groupby(by = ['segment'])['segment'].agg({\"计数\":numpy.size}) # numpy.shape\n",
    "\n",
    "# reset_index来拉平，并且是计数 这一列按照降序排序 ascending = False \n",
    "words_stat = words_stat.reset_index().sort_values(by = [\"计数\"],ascending = False)\n",
    "words_stat.head() # 从高到低显示"
   ]
  },
  {
   "cell_type": "markdown",
   "metadata": {},
   "source": [
    "### 4.画词云"
   ]
  },
  {
   "cell_type": "code",
   "execution_count": 11,
   "metadata": {},
   "outputs": [],
   "source": [
    "#help(WordCloud)"
   ]
  },
  {
   "cell_type": "code",
   "execution_count": 12,
   "metadata": {},
   "outputs": [],
   "source": [
    "#type(words_stat)\n",
    "#words_stat.index"
   ]
  },
  {
   "cell_type": "code",
   "execution_count": 13,
   "metadata": {},
   "outputs": [],
   "source": [
    "#words_stat.head(100).values"
   ]
  },
  {
   "cell_type": "code",
   "execution_count": 14,
   "metadata": {},
   "outputs": [
    {
     "data": {
      "image/png": "[encoded data removed]",
      "text/plain": [
       "<Figure size 432x288 with 1 Axes>"
      ]
     },
     "metadata": {
      "needs_background": "light"
     },
     "output_type": "display_data"
    }
   ],
   "source": [
    "# 指定字体 - simhei.ttf, background is \"white\" , max font size is 80\n",
    "\"font_path 用于指定载入特定的字体文件...\"\n",
    "wordcloud = WordCloud(font_path = \"./data/simhei.ttf\",max_words = 200,background_color = \"white\",width = 400,height =200, max_font_size = 80)\n",
    "\n",
    "# 取出一部分高频出现的词语做可视化 - Dict \n",
    "# x[0] : word  - 是segment的内容\n",
    "# x[1] : frequency of word - Values  是 \"计数\"\n",
    "word_frequency = {x[0]:x[1] for x in words_stat.head(1000).values}  # 取出前1000个词的values的数组构建一个字典\n",
    "wordcloud      = wordcloud.fit_words(word_frequency)\n",
    "# show the image\n",
    "plt.imshow(wordcloud)\n",
    "plt.show()"
   ]
  },
  {
   "cell_type": "code",
   "execution_count": 15,
   "metadata": {},
   "outputs": [
    {
     "data": {
      "text/plain": [
       "<wordcloud.wordcloud.WordCloud at 0x164d46d8>"
      ]
     },
     "execution_count": 15,
     "metadata": {},
     "output_type": "execute_result"
    }
   ],
   "source": [
    "wordcloud.fit_words({x[0]:x[1] for x in words_stat.head(1000).values } )"
   ]
  },
  {
   "cell_type": "code",
   "execution_count": 17,
   "metadata": {},
   "outputs": [
    {
     "name": "stdout",
     "output_type": "stream",
     "text": [
      "Help on WordCloud in module wordcloud.wordcloud object:\n",
      "\n",
      "class WordCloud(__builtin__.object)\n",
      " |  Word cloud object for generating and drawing.\n",
      " |  \n",
      " |  Parameters\n",
      " |  ----------\n",
      " |  font_path : string\n",
      " |      Font path to the font that will be used (OTF or TTF).\n",
      " |      Defaults to DroidSansMono path on a Linux machine. If you are on\n",
      " |      another OS or don't have this font, you need to adjust this path.\n",
      " |  \n",
      " |  width : int (default=400)\n",
      " |      Width of the canvas.\n",
      " |  \n",
      " |  height : int (default=200)\n",
      " |      Height of the canvas.\n",
      " |  \n",
      " |  prefer_horizontal : float (default=0.90)\n",
      " |      The ratio of times to try horizontal fitting as opposed to vertical.\n",
      " |      If prefer_horizontal < 1, the algorithm will try rotating the word\n",
      " |      if it doesn't fit. (There is currently no built-in way to get only\n",
      " |      vertical words.)\n",
      " |  \n",
      " |  mask : nd-array or None (default=None)\n",
      " |      If not None, gives a binary mask on where to draw words. If mask is not\n",
      " |      None, width and height will be ignored and the shape of mask will be\n",
      " |      used instead. All white (#FF or #FFFFFF) entries will be considerd\n",
      " |      \"masked out\" while other entries will be free to draw on. [This\n",
      " |      changed in the most recent version!]\n",
      " |  \n",
      " |  contour_width: float (default=0)\n",
      " |      If mask is not None and contour_width > 0, draw the mask contour.\n",
      " |  \n",
      " |  contour_color: color value (default=\"black\")\n",
      " |      Mask contour color.\n",
      " |  \n",
      " |  scale : float (default=1)\n",
      " |      Scaling between computation and drawing. For large word-cloud images,\n",
      " |      using scale instead of larger canvas size is significantly faster, but\n",
      " |      might lead to a coarser fit for the words.\n",
      " |  \n",
      " |  min_font_size : int (default=4)\n",
      " |      Smallest font size to use. Will stop when there is no more room in this\n",
      " |      size.\n",
      " |  \n",
      " |  font_step : int (default=1)\n",
      " |      Step size for the font. font_step > 1 might speed up computation but\n",
      " |      give a worse fit.\n",
      " |  \n",
      " |  max_words : number (default=200)\n",
      " |      The maximum number of words.\n",
      " |  \n",
      " |  stopwords : set of strings or None\n",
      " |      The words that will be eliminated. If None, the build-in STOPWORDS\n",
      " |      list will be used. Ignored if using generate_from_frequencies.\n",
      " |  \n",
      " |  background_color : color value (default=\"black\")\n",
      " |      Background color for the word cloud image.\n",
      " |  \n",
      " |  max_font_size : int or None (default=None)\n",
      " |      Maximum font size for the largest word. If None, height of the image is\n",
      " |      used.\n",
      " |  \n",
      " |  mode : string (default=\"RGB\")\n",
      " |      Transparent background will be generated when mode is \"RGBA\" and\n",
      " |      background_color is None.\n",
      " |  \n",
      " |  relative_scaling : float (default='auto')\n",
      " |      Importance of relative word frequencies for font-size.  With\n",
      " |      relative_scaling=0, only word-ranks are considered.  With\n",
      " |      relative_scaling=1, a word that is twice as frequent will have twice\n",
      " |      the size.  If you want to consider the word frequencies and not only\n",
      " |      their rank, relative_scaling around .5 often looks good.\n",
      " |      If 'auto' it will be set to 0.5 unless repeat is true, in which\n",
      " |      case it will be set to 0.\n",
      " |  \n",
      " |      .. versionchanged: 2.0\n",
      " |          Default is now 'auto'.\n",
      " |  \n",
      " |  color_func : callable, default=None\n",
      " |      Callable with parameters word, font_size, position, orientation,\n",
      " |      font_path, random_state that returns a PIL color for each word.\n",
      " |      Overwrites \"colormap\".\n",
      " |      See colormap for specifying a matplotlib colormap instead.\n",
      " |      To create a word cloud with a single color, use\n",
      " |      ``color_func=lambda *args, **kwargs: \"white\"``.\n",
      " |      The single color can also be specified using RGB code. For example\n",
      " |      ``color_func=lambda *args, **kwargs: (255,0,0)`` sets color to red.\n",
      " |  \n",
      " |  regexp : string or None (optional)\n",
      " |      Regular expression to split the input text into tokens in process_text.\n",
      " |      If None is specified, ``r\"\\w[\\w']+\"`` is used. Ignored if using\n",
      " |      generate_from_frequencies.\n",
      " |  \n",
      " |  collocations : bool, default=True\n",
      " |      Whether to include collocations (bigrams) of two words. Ignored if using\n",
      " |      generate_from_frequencies.\n",
      " |  \n",
      " |  \n",
      " |      .. versionadded: 2.0\n",
      " |  \n",
      " |  colormap : string or matplotlib colormap, default=\"viridis\"\n",
      " |      Matplotlib colormap to randomly draw colors from for each word.\n",
      " |      Ignored if \"color_func\" is specified.\n",
      " |  \n",
      " |      .. versionadded: 2.0\n",
      " |  \n",
      " |  normalize_plurals : bool, default=True\n",
      " |      Whether to remove trailing 's' from words. If True and a word\n",
      " |      appears with and without a trailing 's', the one with trailing 's'\n",
      " |      is removed and its counts are added to the version without\n",
      " |      trailing 's' -- unless the word ends with 'ss'. Ignored if using\n",
      " |      generate_from_frequencies.\n",
      " |  \n",
      " |  repeat : bool, default=False\n",
      " |      Whether to repeat words and phrases until max_words or min_font_size\n",
      " |      is reached.\n",
      " |  \n",
      " |  Attributes\n",
      " |  ----------\n",
      " |  ``words_`` : dict of string to float\n",
      " |      Word tokens with associated frequency.\n",
      " |  \n",
      " |      .. versionchanged: 2.0\n",
      " |          ``words_`` is now a dictionary\n",
      " |  \n",
      " |  ``layout_`` : list of tuples (string, int, (int, int), int, color))\n",
      " |      Encodes the fitted word cloud. Encodes for each word the string, font\n",
      " |      size, position, orientation and color.\n",
      " |  \n",
      " |  Notes\n",
      " |  -----\n",
      " |  Larger canvases with make the code significantly slower. If you need a\n",
      " |  large word cloud, try a lower canvas size, and set the scale parameter.\n",
      " |  \n",
      " |  The algorithm might give more weight to the ranking of the words\n",
      " |  than their actual frequencies, depending on the ``max_font_size`` and the\n",
      " |  scaling heuristic.\n",
      " |  \n",
      " |  Methods defined here:\n",
      " |  \n",
      " |  __array__(self)\n",
      " |      Convert to numpy array.\n",
      " |      \n",
      " |      Returns\n",
      " |      -------\n",
      " |      image : nd-array size (width, height, 3)\n",
      " |          Word cloud image as numpy matrix.\n",
      " |  \n",
      " |  __init__(self, font_path=None, width=400, height=200, margin=2, ranks_only=None, prefer_horizontal=0.9, mask=None, scale=1, color_func=None, max_words=200, min_font_size=4, stopwords=None, random_state=None, background_color='black', max_font_size=None, font_step=1, mode='RGB', relative_scaling='auto', regexp=None, collocations=True, colormap=None, normalize_plurals=True, contour_width=0, contour_color='black', repeat=False)\n",
      " |  \n",
      " |  fit_words(self, frequencies)\n",
      " |      Create a word_cloud from words and frequencies.\n",
      " |      \n",
      " |      Alias to generate_from_frequencies.\n",
      " |      \n",
      " |      Parameters\n",
      " |      ----------\n",
      " |      frequencies : dict from string to float\n",
      " |          A contains words and associated frequency.\n",
      " |      \n",
      " |      Returns\n",
      " |      -------\n",
      " |      self\n",
      " |  \n",
      " |  generate(self, text)\n",
      " |      Generate wordcloud from text.\n",
      " |      \n",
      " |      The input \"text\" is expected to be a natural text. If you pass a sorted\n",
      " |      list of words, words will appear in your output twice. To remove this\n",
      " |      duplication, set ``collocations=False``.\n",
      " |      \n",
      " |      Alias to generate_from_text.\n",
      " |      \n",
      " |      Calls process_text and generate_from_frequencies.\n",
      " |      \n",
      " |      Returns\n",
      " |      -------\n",
      " |      self\n",
      " |  \n",
      " |  generate_from_frequencies(self, frequencies, max_font_size=None)\n",
      " |      Create a word_cloud from words and frequencies.\n",
      " |      \n",
      " |      Parameters\n",
      " |      ----------\n",
      " |      frequencies : dict from string to float\n",
      " |          A contains words and associated frequency.\n",
      " |      \n",
      " |      max_font_size : int\n",
      " |          Use this font-size instead of self.max_font_size\n",
      " |      \n",
      " |      Returns\n",
      " |      -------\n",
      " |      self\n",
      " |  \n",
      " |  generate_from_text(self, text)\n",
      " |      Generate wordcloud from text.\n",
      " |      \n",
      " |      The input \"text\" is expected to be a natural text. If you pass a sorted\n",
      " |      list of words, words will appear in your output twice. To remove this\n",
      " |      duplication, set ``collocations=False``.\n",
      " |      \n",
      " |      Calls process_text and generate_from_frequencies.\n",
      " |      \n",
      " |      ..versionchanged:: 1.2.2\n",
      " |          Argument of generate_from_frequencies() is not return of\n",
      " |          process_text() any more.\n",
      " |      \n",
      " |      Returns\n",
      " |      -------\n",
      " |      self\n",
      " |  \n",
      " |  process_text(self, text)\n",
      " |      Splits a long text into words, eliminates the stopwords.\n",
      " |      \n",
      " |      Parameters\n",
      " |      ----------\n",
      " |      text : string\n",
      " |          The text to be processed.\n",
      " |      \n",
      " |      Returns\n",
      " |      -------\n",
      " |      words : dict (string, int)\n",
      " |          Word tokens with associated frequency.\n",
      " |      \n",
      " |      ..versionchanged:: 1.2.2\n",
      " |          Changed return type from list of tuples to dict.\n",
      " |      \n",
      " |      Notes\n",
      " |      -----\n",
      " |      There are better ways to do word tokenization, but I don't want to\n",
      " |      include all those things.\n",
      " |  \n",
      " |  recolor(self, random_state=None, color_func=None, colormap=None)\n",
      " |      Recolor existing layout.\n",
      " |      \n",
      " |      Applying a new coloring is much faster than generating the whole\n",
      " |      wordcloud.\n",
      " |      \n",
      " |      Parameters\n",
      " |      ----------\n",
      " |      random_state : RandomState, int, or None, default=None\n",
      " |          If not None, a fixed random state is used. If an int is given, this\n",
      " |          is used as seed for a random.Random state.\n",
      " |      \n",
      " |      color_func : function or None, default=None\n",
      " |          Function to generate new color from word count, font size, position\n",
      " |          and orientation.  If None, self.color_func is used.\n",
      " |      \n",
      " |      colormap : string or matplotlib colormap, default=None\n",
      " |          Use this colormap to generate new colors. Ignored if color_func\n",
      " |          is specified. If None, self.color_func (or self.color_map) is used.\n",
      " |      \n",
      " |      Returns\n",
      " |      -------\n",
      " |      self\n",
      " |  \n",
      " |  to_array(self)\n",
      " |      Convert to numpy array.\n",
      " |      \n",
      " |      Returns\n",
      " |      -------\n",
      " |      image : nd-array size (width, height, 3)\n",
      " |          Word cloud image as numpy matrix.\n",
      " |  \n",
      " |  to_file(self, filename)\n",
      " |      Export to image file.\n",
      " |      \n",
      " |      Parameters\n",
      " |      ----------\n",
      " |      filename : string\n",
      " |          Location to write to.\n",
      " |      \n",
      " |      Returns\n",
      " |      -------\n",
      " |      self\n",
      " |  \n",
      " |  to_html(self)\n",
      " |  \n",
      " |  to_image(self)\n",
      " |  \n",
      " |  ----------------------------------------------------------------------\n",
      " |  Data descriptors defined here:\n",
      " |  \n",
      " |  __dict__\n",
      " |      dictionary for instance variables (if defined)\n",
      " |  \n",
      " |  __weakref__\n",
      " |      list of weak references to the object (if defined)\n",
      "\n"
     ]
    }
   ],
   "source": [
    "help(wordcloud)"
   ]
  },
  {
   "cell_type": "markdown",
   "metadata": {},
   "source": [
    "### ５.自定义背景图做词云的背景　－　白底"
   ]
  },
  {
   "cell_type": "code",
   "execution_count": 16,
   "metadata": {
    "scrolled": false
   },
   "outputs": [
    {
     "data": {
      "image/png": "[encoded data removed]",
      "text/plain": [
       "<Figure size 648x432 with 1 Axes>"
      ]
     },
     "metadata": {
      "needs_background": "light"
     },
     "output_type": "display_data"
    }
   ],
   "source": [
    "# import lib functions \n",
    "from scipy.misc import imread\n",
    "matplotlib.rcParams['figure.figsize'] = (9.0, 6.0)  # Fig size \n",
    "\n",
    "from wordcloud import WordCloud,ImageColorGenerator  # Color Generator \n",
    "# 读入图片作为模板\n",
    "bimg  = imread('./image/entertainment.png') \n",
    "\n",
    "# wordcloud 初始化: background, font and max font size ； mask 以上述图片作为模板； font_path  = 'data/simhei.ttf 微软雅黑字体\n",
    "wordcloud = WordCloud(background_color = 'white', mask = bimg, font_path  = 'data/simhei.ttf', max_font_size = 200 )\n",
    "word_frequency = {x[0]:x[1] for x in words_stat.head(1000).values}  # 取出前1000个词的values 的数组\n",
    "wordcloud      = wordcloud.fit_words(word_frequency)\n",
    "\n",
    "bimgColors     = ImageColorGenerator(bimg)  # 通过导入的图片来生成颜色\n",
    "plt.axis(\"off\")\n",
    "plt.imshow(wordcloud.recolor(color_func = bimgColors))  # 用现有的图片比重新生成word cloud 更快\n",
    "plt.show()"
   ]
  },
  {
   "cell_type": "markdown",
   "metadata": {},
   "source": [
    "# (二) 中文自然语言处理文本分析"
   ]
  },
  {
   "cell_type": "markdown",
   "metadata": {},
   "source": [
    "### 1.关键词提取  - based on TF - IDF: extract_tags()"
   ]
  },
  {
   "cell_type": "code",
   "execution_count": 18,
   "metadata": {},
   "outputs": [],
   "source": [
    "### based on TF-IDF \n",
    "## function : jieba.analyse.extract_tags(sentence, topK = 20, withWeight = False, allowPOS= ())\n",
    "## sentence is tested text \n",
    "## TopK 返回几个权重最大的几个关键词, default value  = 20\n",
    "## withWeight 决定是否返回关键词的权重， default value  = False \n",
    "## allowPOS 包含指定的词性； 名词或形容词，  default value  = NULL 即不筛选\n",
    "\n"
   ]
  },
  {
   "cell_type": "code",
   "execution_count": 27,
   "metadata": {},
   "outputs": [
    {
     "name": "stdout",
     "output_type": "stream",
     "text": [
      "在技术类新闻中出现最高频率的前30个词分别是：\n",
      "用户 2016 互联网 手机 平台 人工智能 百度 2017 智能 技术 数据 360 服务 直播 产品 企业 安全 视频 移动 应用 网络 行业 游戏 机器人 电商 内容 中国 领域 通过 发展\n",
      "Wall time: 17.5 s\n"
     ]
    }
   ],
   "source": [
    "import jieba.analyse as analyse \n",
    "import pandas as pd\n",
    "df  = pd.read_csv('./data/technology_news.csv',encoding = 'utf-8')\n",
    "df  = df.dropna()  # drop掉可能为空的行数\n",
    "lines   = df.content.values.tolist()  #取出数据中的content列，通过values tolist 转成Python列表\n",
    "\n",
    "# 利用join 函数将所有的文本拼接在一起\n",
    "content  = \"\".join(lines)\n",
    "\n",
    "# --\n",
    "# 按照空格打印出前30出现频率最高的词\n",
    "# 按照TF - IDF 计算值抽取出高频的词 - extract_tags()\n",
    "print \"在技术类新闻中出现最高频率的前30个词分别是：\"\n",
    "%time print \" \".join(analyse.extract_tags(content,topK = 30, withWeight = False, allowPOS = () ))"
   ]
  },
  {
   "cell_type": "markdown",
   "metadata": {},
   "source": [
    "### 2.基于TextRank提取关键词"
   ]
  },
  {
   "cell_type": "code",
   "execution_count": 28,
   "metadata": {},
   "outputs": [
    {
     "name": "stdout",
     "output_type": "stream",
     "text": [
      "用户 技术 手机 平台 互联网 企业 数据 产品 智能 市场 行业 公司 百度 内容 网络 领域 人工智能 科技 全球 游戏 信息 视频 产业 业务 机器人 系统 方面 品牌 国内 体验\n",
      "Wall time: 2min 44s\n"
     ]
    }
   ],
   "source": [
    "#%time print \"\".join(jieba.analyse.textrank(content,topK = 20, withWeight = False, allowPOS = ('ns','n','vn','v')) )# 默认是过滤词性的\n",
    "%time print \" \".join(analyse.textrank(content,topK =30,withWeight = False,allowPOS = ('ns')))\n",
    "## \n",
    "## 1. 将待抽取关键词的文本进行分类\n",
    "## 2. 以固定窗口大小（default value = 5 ）, 词与词之间的共同出现的关系构建图\n",
    "## 3. 计算图中节点的pagerank\n",
    "## 4. 算法计算比TF-IDF 速度慢"
   ]
  },
  {
   "cell_type": "code",
   "execution_count": 30,
   "metadata": {},
   "outputs": [],
   "source": [
    "import jieba.analyse as analyse\n",
    "import pandas as pd\n",
    "df = pd.read_csv(\"./data/sports_news.csv\", encoding = 'utf-8')\n",
    "df = df.dropna()\n",
    "lines    = df.content.values.tolist()\n",
    "content  = \" \".join(lines)"
   ]
  },
  {
   "cell_type": "code",
   "execution_count": 16,
   "metadata": {},
   "outputs": [
    {
     "name": "stdout",
     "output_type": "stream",
     "text": [
      "通过Textrank提取主题关键词:\n",
      "足球 球员 赛事 球队 俱乐部 没有 进行 表示 成为 选手 冠军 国际 世界 项目 运动员 记者 球迷 希望 参加 获得\n",
      "Wall time: 4min 27s\n"
     ]
    }
   ],
   "source": [
    "# print - allowPOS 返回词性。默认是过滤词性  v: 动词, n:名词\n",
    "print \"通过Textrank提取主题关键词:\"\n",
    "%time print \" \".join(analyse.textrank(content,topK = 20, withWeight = False, allowPOS = ('v','n') ))"
   ]
  },
  {
   "cell_type": "markdown",
   "metadata": {},
   "source": [
    "### 3.LDA 主题模型"
   ]
  },
  {
   "cell_type": "code",
   "execution_count": 16,
   "metadata": {
    "collapsed": true
   },
   "outputs": [],
   "source": [
    "###　无监督学习　－　抽取一定数量的主题，每个主题的权重从到大到小显示出来\n",
    "###　找到一堆文本中的主题，发现用户都在关心什么话题"
   ]
  },
  {
   "cell_type": "code",
   "execution_count": 17,
   "metadata": {
    "collapsed": true
   },
   "outputs": [],
   "source": [
    "from gensim import corpora, models, similarities\n",
    "import gensim"
   ]
  },
  {
   "cell_type": "markdown",
   "metadata": {},
   "source": [
    "### 3.1载入停用词"
   ]
  },
  {
   "cell_type": "code",
   "execution_count": 18,
   "metadata": {
    "collapsed": true
   },
   "outputs": [],
   "source": [
    "# load stopwards \n",
    "stopwords = pd.read_csv(\"data/stopwords_NLP.txt\", index_col = False, quoting = 3,sep = \"\\t\", names = ['stopword'], encoding = 'utf-8')\n",
    "stopwords = stopwords['stopword'].values"
   ]
  },
  {
   "cell_type": "code",
   "execution_count": 19,
   "metadata": {},
   "outputs": [
    {
     "data": {
      "text/plain": [
       "2613"
      ]
     },
     "execution_count": 19,
     "metadata": {},
     "output_type": "execute_result"
    }
   ],
   "source": [
    "len(stopwords)"
   ]
  },
  {
   "cell_type": "code",
   "execution_count": 23,
   "metadata": {
    "collapsed": true
   },
   "outputs": [],
   "source": [
    "# 转化成合适的数据格式\n",
    "# 将文本内容处理成固定的格式，一个包含句子的List，每个list中的元素是分词后的词list；\n",
    "# [[第，一，条，新闻，在这里]， [第二条新闻在这里]， [这是在做什么，]]\n",
    "#\n",
    "import jieba.analyse as analyse \n",
    "import pandas as pd\n",
    "df  = pd.read_csv('./data/technology_news.csv',encoding = 'utf-8')\n",
    "df  = df.dropna()  # drop掉可能为空的行数\n",
    "lines   = df.content.values.tolist()  #取出数据中的content列，通过values tolist 转成Python列表\n",
    "\n",
    "sentences = []\n",
    "for line in lines:\n",
    "    try:\n",
    "        segs = jieba.lcut(line)  # jieba分词 - linecut \n",
    "        segs = filter(lambda x:len(x)>1, segs)  # 分词后词的数量比1小的是空，filter 掉不需要。\n",
    "        segs = filter(lambda x:x not in stopwords, segs)  # 分词完的词在stopwords中，同样不需要\n",
    "        sentences.append(segs)\n",
    "    except Exception,e:\n",
    "        print line \n",
    "        continue"
   ]
  },
  {
   "cell_type": "code",
   "execution_count": 24,
   "metadata": {},
   "outputs": [
    {
     "name": "stdout",
     "output_type": "stream",
     "text": [
      "本届\n",
      "大展\n",
      "看点\n",
      "无疑\n",
      "被誉为\n",
      "全美\n",
      "科技\n",
      "第一\n",
      "神股\n",
      "伟达\n",
      "首次\n",
      "CES\n",
      "主题\n",
      "演讲\n",
      "现场\n",
      "伟达\n",
      "创始人\n",
      "总裁兼\n",
      "首席\n",
      "执行官\n",
      "黄仁勋\n",
      "揭晓\n",
      "一套\n",
      "全新\n",
      "人工智能\n",
      "辅助\n",
      "驾驶\n",
      "系统\n",
      "AI\n",
      "Co\n",
      "Pilot\n"
     ]
    }
   ],
   "source": [
    "## check \n",
    "for word in sentences[4]:\n",
    "    print word"
   ]
  },
  {
   "cell_type": "markdown",
   "metadata": {},
   "source": [
    "### 3.2 Bag of Words Model - 词袋模型"
   ]
  },
  {
   "cell_type": "code",
   "execution_count": 22,
   "metadata": {
    "collapsed": true
   },
   "outputs": [],
   "source": [
    "#bag of words - 词袋模型\n",
    "dictonary = corpora.Dictionary(sentences) # 把 sentences 中的词建成字典(word ->index 映射)\n",
    "# 通过过词袋模型 将文本转化成数字, 学习下来新的词 - \n",
    "corpus    = [dictonary.doc2bow(sentence) for sentence in sentences]\n"
   ]
  },
  {
   "cell_type": "markdown",
   "metadata": {},
   "source": [
    "### 3.3 LDA 建模"
   ]
  },
  {
   "cell_type": "code",
   "execution_count": 23,
   "metadata": {},
   "outputs": [
    {
     "name": "stdout",
     "output_type": "stream",
     "text": [
      "0.019*\"小米\" + 0.018*\"京东\" + 0.012*\"OTT\" + 0.011*\"数据安全\" + 0.008*\"保护\" + 0.008*\"商品\" + 0.006*\"政务\" + 0.006*\"消费者\" + 0.005*\"武器\" + 0.005*\"价格\"\n"
     ]
    }
   ],
   "source": [
    "# \n",
    "# topK = 20个主题 and corpus 表示设定好的格式数据\n",
    "lda = gensim.models.ldamodel.LdaModel(corpus = corpus, id2word = dictonary, num_topics = 20 )\n",
    "\n",
    "# Topk = 10 and 3nd 分类\n",
    "# 打印出第3种分类，及该分类中的前10个高频词及权重（权重由大到小显示）\n",
    "print lda.print_topic(3,topn = 10)"
   ]
  },
  {
   "cell_type": "code",
   "execution_count": 24,
   "metadata": {
    "collapsed": true
   },
   "outputs": [],
   "source": [
    "#help(lda.get_document_topics)"
   ]
  },
  {
   "cell_type": "code",
   "execution_count": 25,
   "metadata": {},
   "outputs": [
    {
     "name": "stdout",
     "output_type": "stream",
     "text": [
      "0.028*\"网络\" + 0.024*\"城市\" + 0.021*\"数据\" + 0.013*\"报告\" + 0.012*\"宽带\" + 0.011*\"智慧\" + 0.010*\"电信\" + 0.010*\"建设\"\n",
      "0.014*\"系统\" + 0.011*\"技术\" + 0.010*\"手机\" + 0.008*\"功能\" + 0.008*\"摄像头\" + 0.008*\"设计\" + 0.008*\"采用\" + 0.007*\"充电\"\n",
      "0.033*\"人工智能\" + 0.032*\"智能\" + 0.026*\"技术\" + 0.014*\"机器人\" + 0.014*\"数据\" + 0.011*\"百度\" + 0.009*\"学习\" + 0.008*\"服务\"\n",
      "0.019*\"小米\" + 0.018*\"京东\" + 0.012*\"OTT\" + 0.011*\"数据安全\" + 0.008*\"保护\" + 0.008*\"商品\" + 0.006*\"政务\" + 0.006*\"消费者\"\n",
      "0.024*\"企业\" + 0.023*\"数据\" + 0.020*\"发展\" + 0.018*\"互联网\" + 0.015*\"创新\" + 0.013*\"产业\" + 0.012*\"技术\" + 0.012*\"领域\"\n",
      "0.025*\"支付\" + 0.019*\"亿元\" + 0.019*\"乐视\" + 0.010*\"诈骗\" + 0.008*\"手机\" + 0.007*\"万元\" + 0.007*\"交易\" + 0.007*\"人民币\"\n",
      "0.038*\"直播\" + 0.028*\"内容\" + 0.026*\"视频\" + 0.022*\"平台\" + 0.016*\"媒体\" + 0.014*\"VR\" + 0.010*\"分享\" + 0.009*\"广告\"\n",
      "0.067*\"用户\" + 0.018*\"信息\" + 0.009*\"搜索\" + 0.009*\"内容\" + 0.009*\"视频\" + 0.009*\"平台\" + 0.008*\"数据\" + 0.006*\"推荐\"\n",
      "0.015*\"技术\" + 0.012*\"网络\" + 0.011*\"电视\" + 0.011*\"全球\" + 0.009*\"5G\" + 0.008*\"发布\" + 0.007*\"终端\" + 0.007*\"大会\"\n",
      "0.077*\"游戏\" + 0.014*\"手机\" + 0.013*\"苹果\" + 0.011*\"独立\" + 0.011*\"玩家\" + 0.007*\"活动\" + 0.007*\"隔离\" + 0.005*\"AR\"\n",
      "0.019*\"旅游\" + 0.015*\"携程\" + 0.013*\"投资\" + 0.012*\"公司\" + 0.010*\"项目\" + 0.009*\"无人机\" + 0.008*\"上市公司\" + 0.008*\"妈妈\"\n",
      "0.025*\"公司\" + 0.012*\"老师\" + 0.011*\"贾跃亭\" + 0.010*\"网秦\" + 0.007*\"指纹\" + 0.007*\"北京\" + 0.007*\"视网\" + 0.007*\"陌陌\"\n",
      "0.016*\"服务\" + 0.013*\"用户\" + 0.012*\"共享\" + 0.009*\"单车\" + 0.009*\"微信\" + 0.008*\"电子竞技\" + 0.008*\"体验\" + 0.007*\"APP\"\n",
      "0.046*\"产品\" + 0.016*\"体验\" + 0.012*\"用户\" + 0.011*\"博会\" + 0.010*\"需求\" + 0.008*\"信息安全\" + 0.007*\"智能\" + 0.007*\"消费者\"\n",
      "0.043*\"百度\" + 0.025*\"增长\" + 0.014*\"显示\" + 0.012*\"收入\" + 0.011*\"同比\" + 0.010*\"数据\" + 0.009*\"用户\" + 0.009*\"视频\"\n",
      "0.034*\"中国\" + 0.029*\"市场\" + 0.023*\"病毒\" + 0.015*\"全球\" + 0.014*\"日电\" + 0.014*\"中新网\" + 0.011*\"品牌\" + 0.011*\"2017\"\n",
      "0.018*\"物流\" + 0.012*\"论坛\" + 0.011*\"美团\" + 0.010*\"平台\" + 0.009*\"外卖\" + 0.009*\"点评\" + 0.006*\"商家\" + 0.006*\"苏宁\"\n",
      "0.023*\"网络安全\" + 0.021*\"攻击\" + 0.017*\"漏洞\" + 0.013*\"勒索\" + 0.011*\"孩子\" + 0.010*\"360\" + 0.010*\"家长\" + 0.009*\"教育\"\n",
      "0.034*\"手机\" + 0.024*\"360\" + 0.018*\"软件\" + 0.013*\"勒索\" + 0.010*\"用户\" + 0.010*\"电脑\" + 0.007*\"隐私\" + 0.007*\"加密\"\n",
      "0.025*\"联想\" + 0.020*\"手机\" + 0.018*\"运营商\" + 0.017*\"中国\" + 0.014*\"流量\" + 0.012*\"业务\" + 0.011*\"市场\" + 0.010*\"智能手机\"\n"
     ]
    }
   ],
   "source": [
    "# 打印出主题，主题数目设定为20 ,每个主题里面的数量是8 - 可作为关键主题和信息的提取\n",
    "for topic in lda.print_topics(num_topics  = 20, num_words = 8):\n",
    "    print topic[1]\n"
   ]
  },
  {
   "cell_type": "markdown",
   "metadata": {},
   "source": [
    "# (三) 中文自然语言处理文本分类 by ML"
   ]
  },
  {
   "cell_type": "markdown",
   "metadata": {},
   "source": [
    "### 1. 准备数据"
   ]
  },
  {
   "cell_type": "code",
   "execution_count": 72,
   "metadata": {},
   "outputs": [],
   "source": [
    "##　准备数据\n",
    "import jieba\n",
    "import pandas as pd \n",
    "\n",
    "# df_technology\n",
    "df_technology  = pd.read_csv(\"./data/technology_news.csv\", encoding = 'utf-8')\n",
    "df_technology  = df_technology.dropna() # 取消可能为空的行数\n",
    "\n",
    "# df_car\n",
    "df_car  = pd.read_csv(\"./data/car_news.csv\", encoding = 'utf-8')\n",
    "df_car  = df_car.dropna()\n",
    "\n",
    "# df_entertainment \n",
    "df_entertainment   = pd.read_csv(\"./data/entertainment_news.csv\", encoding = 'utf-8')\n",
    "df_entertainment   = df_entertainment.dropna()\n",
    "\n",
    "# \n",
    "df_sprots   = pd.read_csv(\"./data/sports_news.csv\", encoding = 'utf-8')\n",
    "df_sprots   = df_sprots.dropna()\n",
    "\n",
    "#\n",
    "df_military   = pd.read_csv(\"./data/military_news.csv\", encoding = 'utf-8')\n",
    "df_military   = df_military.dropna()"
   ]
  },
  {
   "cell_type": "code",
   "execution_count": 73,
   "metadata": {},
   "outputs": [],
   "source": [
    "# 每个种类提取一定数量的文本样本记录\n",
    "technology  = df_technology.content.values.tolist()[100:2100]\n",
    "car  = df_car.content.values.tolist()[100:2100]\n",
    "\n",
    "entertainment  = df_entertainment.content.values.tolist()[100:2100]\n",
    "sprots  = df_sprots.content.values.tolist()[100:2100]\n",
    "\n",
    "military = df_military.content.values.tolist()[100:2100]"
   ]
  },
  {
   "cell_type": "code",
   "execution_count": 74,
   "metadata": {},
   "outputs": [
    {
     "name": "stdout",
     "output_type": "stream",
     "text": [
      "娱乐数据个别样本：\n",
      "　　因此，有关部门如果真想改善“电影生态”，那么，请放下大棒，拿起喷壶，满腔热情地去浇灌眼前这片网络评论的园地吧！□ 眉间尺\n",
      "运动数据个边样本:\n",
      "　　福州市体育总会秘书长王晖说，福建天信职业足球俱乐部将给福州再添文化名片，将推动福州市建立青训体系，为福州足球培养后备人才，传播健康积极的足球文化。\n",
      "军事题材的个别样本:\n",
      "　　2014年11月底，时任中国国防部新闻发言人耿雁生首次证实中国海军一艘潜艇曾赴亚丁湾、索马里海域护航，期间两次技术停靠斯里兰卡。他强调，“潜艇靠港进行补给和休整，这是各国海军的通行做法。”\n"
     ]
    }
   ],
   "source": [
    "# print 1 records ramdomly\n",
    "print \"娱乐数据个别样本：\\n\",entertainment[11]\n",
    "print \"运动数据个边样本:\\n\",sprots[1]\n",
    "print \"军事题材的个别样本:\\n\",military[11]"
   ]
  },
  {
   "cell_type": "markdown",
   "metadata": {},
   "source": [
    "### 2 分词与中文文本分类"
   ]
  },
  {
   "cell_type": "code",
   "execution_count": 75,
   "metadata": {},
   "outputs": [],
   "source": [
    "# load stopwards \n",
    "stopwords = pd.read_csv(\"./data/stopwords_NLP.txt\", index_col = False,names =['stopword'],encoding = 'utf-8',quoting = 3,sep = \"\\t\") # reading \n",
    "stopwords = stopwords['stopword'].values # load values \n"
   ]
  },
  {
   "cell_type": "markdown",
   "metadata": {},
   "source": [
    "### 2.1 ML数据集的预处理:去掉空格并打上标签"
   ]
  },
  {
   "cell_type": "code",
   "execution_count": 76,
   "metadata": {},
   "outputs": [],
   "source": [
    "# Remove stopwords in fucntion \n",
    "def preprocess_text(content_lines,sentences,category):\n",
    "    for line in content_lines:\n",
    "        try:\n",
    "            segs = jieba.lcut(line)\n",
    "            segs = filter(lambda x:len(x)>1, segs)  # 空格 清掉\n",
    "            segs = filter(lambda x:x not in stopwords, segs)\n",
    "             \n",
    "            # 把 sentences 里面的词通过空格链接起来，并打上category 的标签\n",
    "            sentences.append( (\" \".join(segs), category) )\n",
    "        except Exception, e:\n",
    "            print line\n",
    "            continue \n",
    "\n",
    "# generated date \n",
    "sentences =[]\n",
    "\n",
    "# 将全部的数据传进来做数据的预处理，并为各个种类带上标签： ‘technology’ and 'car' and so on \n",
    "preprocess_text(technology,sentences,'technology')\n",
    "preprocess_text(car,sentences,'car')\n",
    "preprocess_text(sprots,sentences,'sprots')\n",
    "preprocess_text(military,sentences,'military')\n",
    "preprocess_text(entertainment,sentences,'entertainment')"
   ]
  },
  {
   "cell_type": "markdown",
   "metadata": {},
   "source": [
    "### 3. 将数据分成测试数据集合和训练数据集之前，先提前打乱数据集合"
   ]
  },
  {
   "cell_type": "code",
   "execution_count": 77,
   "metadata": {},
   "outputs": [
    {
     "name": "stdout",
     "output_type": "stream",
     "text": [
      "展现 印度 异域 色彩 王宝强 特意 电影 安排 两场 看点 歌舞 乐呵呵 介绍 男性 观众 喜欢 美女 云集 纱丽 女性 观众 阳刚 激昂 牛魔阵 打动 印度 遇上 拍摄 功夫 瑜伽 成龙 大哥 第一次 拍戏 一块 吃饭 鼓励 entertainment\n",
      "吴亦凡 最新 MV Juice 今天下午 三点 独家 上线 优酷 频道 这是 吴亦凡 担纲 主演 电影 极限 特工 终极 回归 所献唱 主题曲 entertainment\n",
      "数据 显示 特斯拉 汽车 交付 7.62 万辆 低于 万辆 预定 目标 去年 特斯拉 汽车产量 8.39 万辆 增长 car\n",
      "林志杰 通报批评 sprots\n",
      "上下文 理解 组合 理解 机器 对话 对话 类似 多轮 对话 用户 意图 对话 机器 主动 沟通 能力 technology\n",
      "体育 教育 两个 系统 之间 壁垒 比赛 球员 注册 两个 系统 互不 相通 难以 合力 中国 足球 青训 体系 建设 165 行动计划 审议 这道 壁垒 打破 李毓毅 透露 计划 草案 提出 中国足协 校足办 联合 调研 在此期间 达成 共识 球员 注册 态度 中国足协 注册 系统 容纳 教育 系统 球员 2017 中国足协 若干 地区 组织 青少年 区域性 周末 主客场 联赛 校园 足球 竞赛 体系 球队 参加 李毓毅 目标 青训 体系 校园 足球 一家人 一件 目标 工作 渠道 畅通 矛盾 这是 工作 发展 本月 教育部 校园 足球 会议 研究 中国 足球 青训 体系 建设 165 行动计划 sprots\n",
      "接到 第一 时间 致电 刘亮 二人 收到 邀请 难以置信 几天 接受 央视春晚 官方 采访 石头 落地 二人 地为 春晚 冲刺 这是 全国 顶尖 舞台 精益求精 刘亮 entertainment\n",
      "上汽 开发 一套 国内 领先 零部件 控制 标准 SMTC 300 004 V3 轿车 内饰 零件 材料 散发 性能 技术 对车 气味 甲醛 总碳 含量 做出 零件 气味 零件 VOC 整车 VOC 多种 测试方法 确保 零件 整车 空气质量 达标 整车 气味 控制 小于 等于 3.5 媲美 大众 丰田 国际 巨头 水准 car\n",
      "360 手机 浏览器 8.0 版本 单设 视频 频道 聚合 视频 内容 接入 花椒 直播 好玩儿 新鲜 优质 视频 人气 直播 找到 technology\n",
      "事儿 先是 知乎 热闹 开来 一大 网友 讨论 2017 年初 打车 日晚 个人信息 标注 滴滴 出行 高级 产品 总监 知乎 用户 罗文 发文 两天 北京 打车 相比 等待 接单 接驾 时间 更长 被动 调价 后台 数据 找到 这一波 打车 原因 春节 car\n"
     ]
    }
   ],
   "source": [
    "# 将数据分成测试数据集合和训练数据集之前，先提前打乱数据集合\n",
    "import random\n",
    "random.shuffle(sentences)  # 乱序\n",
    "\n",
    "# print \n",
    "for sentence in sentences[:10]:\n",
    "    print sentence[0],sentence[1]"
   ]
  },
  {
   "cell_type": "markdown",
   "metadata": {},
   "source": [
    "### 4.Split Data into Train and Test Data Serts "
   ]
  },
  {
   "cell_type": "code",
   "execution_count": 78,
   "metadata": {},
   "outputs": [
    {
     "data": {
      "text/plain": [
       "7500"
      ]
     },
     "execution_count": 78,
     "metadata": {},
     "output_type": "execute_result"
    }
   ],
   "source": [
    "# Split Data into Train and Test Data Serts \n",
    "from sklearn.model_selection import train_test_split\n",
    "\n",
    "# 拉链函数来把数据的文本内容赋值给x, 标签  ‘technology’ and 'car' and so on  赋值给我label: y\n",
    "\n",
    "x,y  = zip(*sentences)\n",
    "x_train,x_test,y_train,y_test = train_test_split(x,y,random_state = 200)\n",
    "\n",
    "# output \n",
    "len(x_train)"
   ]
  },
  {
   "cell_type": "markdown",
   "metadata": {},
   "source": [
    "### 5.通过词袋模型对文本进行特征提取，找到每个词对应的下标,并以下标作为向量"
   ]
  },
  {
   "cell_type": "code",
   "execution_count": 79,
   "metadata": {},
   "outputs": [],
   "source": [
    "from sklearn.feature_extraction.text import CountVectorizer  # 向量化计数器\n",
    "\n",
    "# 在上述通过空格衔接起来的词中取出4000个词，通过CountVectorizer 来找到每个词对应的词向量。该向量统计也会考虑每个词出现的频次\n",
    "vec  = CountVectorizer(analyzer = 'word', # 按照空格链接起来的词\n",
    "                      max_features = 4000) #  取出最高频的4000 个词，并以4000词的对应下标值组成一个向量\n",
    "\n",
    "# 用训练集做fit\n",
    "vec.fit(x_train)\n",
    "\n",
    "# 将字符串的np数组x（词语或者一句话）转化成向量\n",
    "def get_features(x):\n",
    "    x.transform(x)"
   ]
  },
  {
   "cell_type": "markdown",
   "metadata": {},
   "source": [
    "### 6. import classifiter to fit data "
   ]
  },
  {
   "cell_type": "markdown",
   "metadata": {},
   "source": [
    "### 6.1 导入朴素贝叶斯分类器来训练数据"
   ]
  },
  {
   "cell_type": "code",
   "execution_count": 80,
   "metadata": {},
   "outputs": [],
   "source": [
    "#  import多项式的朴素贝叶斯模型作为分类器来训练模型\n",
    "from sklearn.naive_bayes import MultinomialNB\n",
    "classifier = MultinomialNB()"
   ]
  },
  {
   "cell_type": "code",
   "execution_count": 81,
   "metadata": {},
   "outputs": [
    {
     "data": {
      "text/plain": [
       "MultinomialNB(alpha=1.0, class_prior=None, fit_prior=True)"
      ]
     },
     "execution_count": 81,
     "metadata": {},
     "output_type": "execute_result"
    }
   ],
   "source": [
    "# 将训练文本转化成向量的x_train 丢进来，及标签y_train 作为训练\n",
    "classifier.fit(vec.transform(x_train),y_train)"
   ]
  },
  {
   "cell_type": "code",
   "execution_count": 82,
   "metadata": {},
   "outputs": [
    {
     "data": {
      "text/plain": [
       "0.8888"
      ]
     },
     "execution_count": 82,
     "metadata": {},
     "output_type": "execute_result"
    }
   ],
   "source": [
    "### 计算准确率 on test data sets \n",
    "classifier.score(vec.transform(x_test),y_test)"
   ]
  },
  {
   "cell_type": "code",
   "execution_count": 83,
   "metadata": {},
   "outputs": [
    {
     "data": {
      "text/plain": [
       "2500"
      ]
     },
     "execution_count": 83,
     "metadata": {},
     "output_type": "execute_result"
    }
   ],
   "source": [
    "## length of x_test data sets \n",
    "len(x_test)"
   ]
  },
  {
   "cell_type": "markdown",
   "metadata": {},
   "source": [
    "### 7. 引入N-gram 模型做分词处理，N =1,2 : ngram_range = (1,3)，并加大词表数量"
   ]
  },
  {
   "cell_type": "code",
   "execution_count": 84,
   "metadata": {},
   "outputs": [],
   "source": [
    "from sklearn.feature_extraction.text import CountVectorizer  # 向量化计数器\n",
    "\n",
    "vec  = CountVectorizer(analyzer = 'word', # 按照空格链接起来的词\n",
    "                      ngram_range = (1,3), # N-gram 模型 N = 1,2\n",
    "                     max_features = 20000) #  加大词表数量\n",
    "\n",
    "# 用训练集做fit\n",
    "vec.fit(x_train)\n",
    "\n",
    "# 将字符串的np数组x（词语）转化成向量\n",
    "def get_features(x):\n",
    "    x.transform(x)"
   ]
  },
  {
   "cell_type": "code",
   "execution_count": 85,
   "metadata": {},
   "outputs": [
    {
     "data": {
      "text/plain": [
       "0.922"
      ]
     },
     "execution_count": 85,
     "metadata": {},
     "output_type": "execute_result"
    }
   ],
   "source": [
    "#训练过程\n",
    "classifier = MultinomialNB()\n",
    "# 将训练文本转化成向量的x_train 丢进来，及标签y_train 作为训练\n",
    "classifier.fit(vec.transform(x_train),y_train)\n",
    "### 计算准确率 on test data sets \n",
    "classifier.score(vec.transform(x_test),y_test)"
   ]
  },
  {
   "cell_type": "code",
   "execution_count": 86,
   "metadata": {},
   "outputs": [
    {
     "name": "stdout",
     "output_type": "stream",
     "text": [
      ">>skf is : StratifiedKFold(n_splits=2, random_state=None, shuffle=False)\n",
      "X_train [[1 2]\n",
      " [1 2]]\n",
      "X_test [[3 4]\n",
      " [3 4]]\n",
      "y_train [0 1]\n",
      "y_test [0 1]\n"
     ]
    }
   ],
   "source": [
    "from sklearn.model_selection import StratifiedKFold\n",
    "X1 = np.array([[1, 2], [3, 4], [1, 2], [3, 4]])\n",
    "y1 = np.array([0, 0, 1, 1])\n",
    "skf = StratifiedKFold(n_splits=2)\n",
    "skf.get_n_splits(X1, y1)\n",
    "print \">>skf is :\",skf\n",
    "for train_index,test_index in skf.split(X1,y1):\n",
    "    X1_train,X1_test = X1[train_index], X1[test_index]\n",
    "    y1_train,y1_test = y1[train_index],y1[test_index]\n",
    "    \n",
    "print \"X_train\", X1_train\n",
    "print \"X_test\", X1_test\n",
    "print \"y_train\", y1_train\n",
    "print \"y_test\", y1_test"
   ]
  },
  {
   "cell_type": "markdown",
   "metadata": {},
   "source": [
    "### 8. 通过交叉验证集合fit Model - crossvalidation \n"
   ]
  },
  {
   "cell_type": "code",
   "execution_count": 87,
   "metadata": {},
   "outputs": [],
   "source": [
    "#help(StratifiedKFold)"
   ]
  },
  {
   "cell_type": "code",
   "execution_count": 88,
   "metadata": {},
   "outputs": [],
   "source": [
    "# 当前数据为4个种类，这里KFold 成4个部分，三个部分做trian data sets, 1个部分做test data sets\n",
    "# 通过 KFold 来分类数据\n",
    "from sklearn.model_selection import StratifiedKFold\n",
    "from sklearn.metrics import accuracy_score, precision_score\n",
    "import numpy as np\n",
    "\n",
    "# K 层的交叉验证\n",
    "def stratifiedkfold_cv(x,y,clf_class,shuffle= True,n_folds = 3,**kwargs):\n",
    "    stratifiedk_fold = StratifiedKFold(n_splits  = n_folds, shuffle = shuffle) # 按照y 标签来类K 折\n",
    "    \n",
    "    y_pred  = y[:]   \n",
    "    for train_index,test_index in stratifiedk_fold.split(x,y):\n",
    "        X_train, X_test =  x[train_index],x[test_index]\n",
    "        y_train         =  y[train_index]\n",
    "        clf  = clf_class(**kwargs)\n",
    "        clf.fit(X_train,y_train)\n",
    "        \n",
    "        y_pred[test_index] = clf.predict(X_test)\n",
    "    return y_pred \n"
   ]
  },
  {
   "cell_type": "code",
   "execution_count": 89,
   "metadata": {},
   "outputs": [],
   "source": [
    "vec_x = vec.transform(x)\n"
   ]
  },
  {
   "cell_type": "code",
   "execution_count": 90,
   "metadata": {},
   "outputs": [],
   "source": [
    "\n",
    "#help(precision_score)"
   ]
  },
  {
   "cell_type": "code",
   "execution_count": 100,
   "metadata": {},
   "outputs": [
    {
     "name": "stdout",
     "output_type": "stream",
     "text": [
      "% 91.059341\n"
     ]
    }
   ],
   "source": [
    "NB = MultinomialNB\n",
    "y_true = y\n",
    "y_pred = stratifiedkfold_cv(vec.transform(x),np.array(y),NB)\n",
    "print \"%\",\"%f\" %((precision_score(y_true,y_pred,labels = None, average = 'macro'))*100)\n"
   ]
  },
  {
   "cell_type": "markdown",
   "metadata": {},
   "source": [
    "# (四) 整理文本分类Class"
   ]
  },
  {
   "cell_type": "code",
   "execution_count": null,
   "metadata": {},
   "outputs": [],
   "source": [
    "import re\n",
    "from sklearn.feature_extraction.text import CountVectorizer\n",
    "from sklearn.model_selection import train_test_split\n",
    "from sklearn.naive_bayes import  MultinomialNB"
   ]
  },
  {
   "cell_type": "code",
   "execution_count": 101,
   "metadata": {},
   "outputs": [],
   "source": [
    "class TextClassifier():\n",
    "    \n",
    "    def __init__(self,classifier = MultinomialNB()) :  # 默认是朴素贝叶斯模型\n",
    "        self.classifier = classifier \n",
    "        self.vectorizer = CountVectorizer(analyzer = 'word', ngram_range = (1,3), max_features = 2000)\n",
    "        \n",
    "    def features(self,X):\n",
    "        return self.vectorizer.transform(X)  # 将文本转化成向量\n",
    "    \n",
    "    def fit(self,X,y):\n",
    "        self.vectorizer.fit(X)\n",
    "        self.classifier.fit(self.features(X), y)\n",
    "        \n",
    "    def predict(self,x):\n",
    "        return self.classifier.predict(self.features([x]))\n",
    "    \n",
    "    def score(self,X,y):\n",
    "        return self.classifier.score(self.features(X),y)"
   ]
  },
  {
   "cell_type": "code",
   "execution_count": 102,
   "metadata": {},
   "outputs": [
    {
     "name": "stdout",
     "output_type": "stream",
     "text": [
      "['technology']\n",
      "0.8532\n"
     ]
    }
   ],
   "source": [
    "## class的调用\n",
    "classifier  = TextClassifier()\n",
    "classifier.fit(x_train,y_train)\n",
    "\n",
    "# prediction & score \n",
    "print(classifier.predict('融资　是　创业　很难　做到　的　事情'))\n",
    "print(classifier.score(x_test,y_test))"
   ]
  },
  {
   "cell_type": "markdown",
   "metadata": {},
   "source": [
    "# (五) SVM Text Classifier "
   ]
  },
  {
   "cell_type": "code",
   "execution_count": 103,
   "metadata": {},
   "outputs": [
    {
     "data": {
      "text/plain": [
       "0.8404"
      ]
     },
     "execution_count": 103,
     "metadata": {},
     "output_type": "execute_result"
    }
   ],
   "source": [
    "# \n",
    "from sklearn.svm import SVC\n",
    "svm = SVC(kernel = 'linear')\n",
    "svm.fit(vec.transform(x_train),  y_train)\n",
    "svm.score(vec.transform(x_test), y_test)"
   ]
  },
  {
   "cell_type": "code",
   "execution_count": 104,
   "metadata": {},
   "outputs": [
    {
     "data": {
      "text/plain": [
       "0.1936"
      ]
     },
     "execution_count": 104,
     "metadata": {},
     "output_type": "execute_result"
    }
   ],
   "source": [
    "# RBF Kernal - 高斯核 -速度比较慢\n",
    "from sklearn.svm import SVC\n",
    "svm = SVC() # 默认RBF Kernal\n",
    "svm.fit(vec.transform(x_train),  y_train)\n",
    "svm.score(vec.transform(x_test), y_test)"
   ]
  },
  {
   "cell_type": "code",
   "execution_count": 105,
   "metadata": {},
   "outputs": [],
   "source": [
    "# 换一个特征提取模型\n",
    "import re\n",
    "from sklearn.feature_extraction.text import TfidfVectorizer \n",
    "from sklearn.model_selection import train_test_split\n",
    "from sklearn.svm import SVC"
   ]
  },
  {
   "cell_type": "code",
   "execution_count": 106,
   "metadata": {},
   "outputs": [],
   "source": [
    "class TextClassifier():\n",
    "    \n",
    "    def __init__(self,classifier = SVC(kernel = 'linear')) :  # 默认是线性SVM\n",
    "        self.classifier = classifier \n",
    "        self.vectorizer = TfidfVectorizer(analyzer = 'word', ngram_range = (1,3), max_features = 2000)\n",
    "        \n",
    "    def features(self,X):\n",
    "        return self.vectorizer.transform(X)  # 将文本转化成向量\n",
    "    \n",
    "    def fit(self,X,y):\n",
    "        self.vectorizer.fit(X)\n",
    "        self.classifier.fit(self.features(X), y)\n",
    "        \n",
    "    def predict(self,x):\n",
    "        return self.classifier.predict(self.features([x]))\n",
    "    \n",
    "    def score(self,X,y):\n",
    "        return self.classifier.score(self.features(X),y)"
   ]
  },
  {
   "cell_type": "code",
   "execution_count": 107,
   "metadata": {},
   "outputs": [
    {
     "name": "stdout",
     "output_type": "stream",
     "text": [
      "['entertainment']\n",
      "0.8476\n"
     ]
    }
   ],
   "source": [
    "## class的调用\n",
    "classifier  = TextClassifier()\n",
    "classifier.fit(x_train,y_train)\n",
    "\n",
    "# prediction & score \n",
    "print(classifier.predict('拿到 年终奖 高高兴兴 回家 过年 发现 微信 群里 红包 满天飞'))\n",
    "print(classifier.score(x_test,y_test))"
   ]
  },
  {
   "cell_type": "code",
   "execution_count": null,
   "metadata": {
    "collapsed": true
   },
   "outputs": [],
   "source": []
  },
  {
   "cell_type": "code",
   "execution_count": null,
   "metadata": {
    "collapsed": true
   },
   "outputs": [],
   "source": []
  }
 ],
 "metadata": {
  "anaconda-cloud": {},
  "kernelspec": {
   "display_name": "Python 2",
   "language": "python",
   "name": "python2"
  },
  "language_info": {
   "codemirror_mode": {
    "name": "ipython",
    "version": 2
   },
   "file_extension": ".py",
   "mimetype": "text/x-python",
   "name": "python",
   "nbconvert_exporter": "python",
   "pygments_lexer": "ipython2",
   "version": "2.7.9"
  }
 },
 "nbformat": 4,
 "nbformat_minor": 2
}
