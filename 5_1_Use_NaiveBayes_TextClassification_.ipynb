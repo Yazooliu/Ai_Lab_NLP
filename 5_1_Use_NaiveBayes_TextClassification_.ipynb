{
 "cells": [
  {
   "cell_type": "code",
   "execution_count": 46,
   "metadata": {},
   "outputs": [],
   "source": [
    "#coding:utf-8\n",
    "#python 2\n",
    "import os \n",
    "import time \n",
    "import random\n",
    "import jieba\n",
    "import sklearn \n",
    "from sklearn.naive_bayes import MultinomialNB\n",
    "import numpy as np \n",
    "import pylab as pl\n",
    "import matplotlib.pyplot as plt"
   ]
  },
  {
   "cell_type": "code",
   "execution_count": 2,
   "metadata": {},
   "outputs": [],
   "source": [
    "def remove_deplicated_words(words):\n",
    "    words_set = set()  # 利用set 的属性仅存储单一的元素\n",
    "    with open(words,'r') as readwords:\n",
    "        for line in readwords.readlines():\n",
    "            word  = line.strip().decode('utf-8')  # word is string \n",
    "            if len(word)>0 and word not in words_set: # 没有出现再现有的words 集合set 中则，增加进来\n",
    "                words_set.add(word)\n",
    "    return words_set"
   ]
  },
  {
   "cell_type": "code",
   "execution_count": 3,
   "metadata": {},
   "outputs": [],
   "source": [
    "folder_path = './data/Database/SogouC/Sample'\n",
    "folder_list = os.listdir(folder_path)              # listdir - 用于列出该路劲下所有的文件及文件夹\n",
    "data_list   = []\n",
    "label_list  = []\n",
    "index       = 0\n",
    "for folder in folder_list:\n",
    "    new_folder_path = os.path.join(folder_path,folder)\n",
    "    files           = os.listdir(new_folder_path)  # 读取每个文件夹下面的全部文件\n",
    "    index  += 1\n",
    "    label_list.append(folder)\n",
    "    #print(\"index = %s: files= %s: it's label = %s \" %(index,files,label_list) )"
   ]
  },
  {
   "cell_type": "code",
   "execution_count": 9,
   "metadata": {},
   "outputs": [],
   "source": [
    "def Examples_Generated(folder_path,test_dataset_percentage = 0.20):\n",
    "    folder_list = os.listdir(folder_path)              # listdir - 用于列出该路劲下所有的文件及文件夹\n",
    "    data_list   = []\n",
    "    label_list  = []\n",
    "    \n",
    "    for folder in folder_list:\n",
    "        new_folder_path = os.path.join(folder_path,folder)\n",
    "        files           = os.listdir(new_folder_path)  # 读取每个文件夹下面的全部文件\n",
    "        \n",
    "        # Reading Files\n",
    "        jindex =  1 # index initialization \n",
    "        for file in files:\n",
    "            # worry about memory if >100:\n",
    "            if jindex >  100:\n",
    "                print(\"jindex >= 100,Break Now!\")\n",
    "                break\n",
    "            \n",
    "            # reading file from detail file path \n",
    "            with open(os.path.join(new_folder_path,file),'r') as open_handel:\n",
    "                read_rawdata = open_handel.read()\n",
    "            \n",
    "            # jieba cut - 分词\n",
    "            rawdata_cut      = jieba.cut(read_rawdata,cut_all = False)  # cut 精简model \n",
    "            rawdata_cut_list = list(rawdata_cut)\n",
    "            \n",
    "            data_list.append(rawdata_cut_list) # data \n",
    "            #label_list.append(folder) # folder name is the label of the data in this folder\n",
    "            label_list.append(folder.decode('utf-8'))\n",
    "            jindex += 1\n",
    "    \n",
    "    # divide the dataset into train and test data manual \n",
    "    #data_label_list = list(zip(data_list,label_list))# 将两个list以元祖的形式组合成list = [(data_list, label_list)]\n",
    "    data_label_list =  zip(data_list,label_list)\n",
    "    random.shuffle(data_label_list)  # 乱序\n",
    "    \n",
    "    \n",
    "    # 手动区分 - Index_boundary \n",
    "    index_boundary = int(len(data_label_list)* test_dataset_percentage) +1\n",
    "    test_dataset   = data_label_list[0:index_boundary]\n",
    "    train_dataset  = data_label_list[index_boundary: ]\n",
    "    \n",
    "    # 通过zip(*) 将原来组合的list 再重写解开成两个单独的list, one is data, other one is list \n",
    "    test_data,test_data_lable   = (zip(*test_dataset))\n",
    "    train_data,train_data_lable = (zip(*train_dataset))\n",
    "    \n",
    "    # 统计词频方法all_words_dict 中\n",
    "    statics_wordsfrequency_dict  = {}\n",
    "    for word in train_data:     # every single 'word' in train_data \n",
    "        for character in word:  # every single 'character' in word\n",
    "            #if character in statics_wordsfrequency_dict:  # python3.x deleted has_key, has_key only used in python 2.x\n",
    "            if statics_wordsfrequency_dict.has_key(character):\n",
    "                statics_wordsfrequency_dict[character] += 1   # dict[key] = value 赋值方法！\n",
    "            else:\n",
    "                statics_wordsfrequency_dict[character]  = 1\n",
    "\n",
    "    # key = lambda x:x[1] - 按照每个元素的第二值即value 排序，reverse =True 逆序-降序排列\n",
    "    order_statics_list = sorted(statics_wordsfrequency_dict.items(),key = lambda x:x[1], reverse =True) \n",
    "    #all_words_list     = list(list(zip(*order_statics_list))[0]) # zip(*) 要转成list in python 3.x \n",
    "    all_words_list     = list(zip(*order_statics_list)[0])\n",
    "    # return 想要的结果\n",
    "    all_words_list = np.array(all_words_list)\n",
    "    return all_words_list, train_data, test_data, train_data_lable, test_data_lable"
   ]
  },
  {
   "cell_type": "code",
   "execution_count": 10,
   "metadata": {},
   "outputs": [],
   "source": [
    "def feature_extraction (all_words_list,deletN, stopwords_set = set()):\n",
    "    # feature extraction \n",
    "    feature_words =  []\n",
    "    n             =   1  # initialization n index \n",
    "    for t in range(deletN,len(all_words_list),1):\n",
    "        if not all_words_list[t].isdigit() and all_words_list[t] not in stopwords_set and 1< len(all_words_list[t])<5:\n",
    "            feature_words.append(all_words_list[t])\n",
    "    return feature_words"
   ]
  },
  {
   "cell_type": "code",
   "execution_count": 11,
   "metadata": {},
   "outputs": [],
   "source": [
    "def text_features(train_data,test_data,feature_words,flag = 'nltk'):\n",
    "    def text_features(text,feature_words):\n",
    "        text_words = set(text)\n",
    "        ##---------\n",
    "        if flag   == 'nltk':\n",
    "            features = {word:1 if word in text_words else 0 for word in feature_words }\n",
    "            \n",
    "        elif flag == 'sklearn':\n",
    "            features = [1 if word in text_words else 0 for word in feature_words]\n",
    "        else:\n",
    "            features = []\n",
    "        ##---------\n",
    "        return features\n",
    "    \n",
    "    train_feature_list  =  [text_features(text,feature_words) for text in train_data]\n",
    "    test_feature_list   =  [text_features(text,feature_words) for text in test_data]\n",
    "    return train_feature_list, test_feature_list"
   ]
  },
  {
   "cell_type": "code",
   "execution_count": 58,
   "metadata": {},
   "outputs": [],
   "source": [
    "def func1(input_x,input_y):\n",
    "    def func1(input_x,input_y):\n",
    "        print \"input_x is\", input_x\n",
    "        return input_x + input_y\n",
    "    \n",
    "    return_x_y = func1(input_x,input_y)\n",
    "    return return_x_y + 1\n",
    "# calling \n",
    "#func1(func1(12,3),func1(12,4))"
   ]
  },
  {
   "cell_type": "code",
   "execution_count": 12,
   "metadata": {},
   "outputs": [],
   "source": [
    "def text_model_classificaton(train_feature_list,test_feature_list,train_data_lable,test_data_lable,flag = 'nltk'):\n",
    "    ## -----\n",
    "    if flag == 'nltk':\n",
    "        ## 使用nltk分类器\n",
    "        train_list = zip(train_feature_list,train_data_lable)\n",
    "        test_list  = zip(test_feature_list,test_data_lable)\n",
    "        classifier = nltk.classify.NaiveBayesClassifier.train(train_list) # NaiveBayesClassifier  \n",
    "        accuracy_test  = nltk.classify.accuracy(classifier,test_list)\n",
    "    # -----\n",
    "    elif flag == 'sklearn':\n",
    "        classifier = MultinomialNB().fit(train_feature_list,train_data_lable)\n",
    "        accuracy_test  = classifier.score(test_feature_list,test_data_lable)\n",
    "    else:\n",
    "        accuracy_test  = []\n",
    "    return accuracy_test"
   ]
  },
  {
   "cell_type": "code",
   "execution_count": 28,
   "metadata": {},
   "outputs": [
    {
     "name": "stdout",
     "output_type": "stream",
     "text": [
      "Starting ... \n"
     ]
    },
    {
     "data": {
      "image/png": "[encoded data removed]",
      "text/plain": [
       "<Figure size 432x288 with 1 Axes>"
      ]
     },
     "metadata": {
      "needs_background": "light"
     },
     "output_type": "display_data"
    },
    {
     "name": "stdout",
     "output_type": "stream",
     "text": [
      "Completed!\n"
     ]
    }
   ],
   "source": [
    "print(\"Starting ... \")\n",
    "\n",
    "# Text pre-processing \n",
    "folder_path = \"./data/Database/SogouC/Sample\"\n",
    "all_words_list,train_data,test_data,train_data_lable,test_data_lable = Examples_Generated(folder_path,test_dataset_percentage = 0.20)\n",
    "\n",
    "# Generated stop words\n",
    "stopwords_txtfile = './data/stopwords_cn_in5NavBayesTextClassifier.txt'\n",
    "stopwords_set     = remove_deplicated_words(stopwords_txtfile)\n",
    "\n",
    "# Text Extraction and Classification \n",
    "flag     = 'sklearn'\n",
    "deleteNs  = range(0,2300,20) # 一开始用的feature 样本多，后面逐渐用的样本少\n",
    "accuracy_test_list = []\n",
    "for deleteN in deleteNs:\n",
    "    feature_words      =   feature_extraction(all_words_list,deleteN,stopwords_set)\n",
    "    train_feature_list, test_feature_list = text_features(train_data,test_data,feature_words,flag)\n",
    "    accuracy_testscore = text_model_classificaton(train_feature_list,test_feature_list,train_data_lable,test_data_lable,flag)\n",
    "    accuracy_test_list.append(accuracy_testscore)\n",
    "    #print accuracy_testscore\n",
    "\n",
    "# Result \n",
    "plt.figure()\n",
    "plt.plot(deleteNs,accuracy_test_list)\n",
    "plt.title(\"relationship between deleteNs and accuracy_test_list\")\n",
    "plt.xlabel(\"deleteNs\")\n",
    "plt.ylabel(\"accuracy_test_list\")\n",
    "plt.show()\n",
    "\n",
    "print(\"Completed!\")"
   ]
  },
  {
   "cell_type": "code",
   "execution_count": 19,
   "metadata": {},
   "outputs": [],
   "source": [
    "a = [ [1],[2],[3] ]"
   ]
  },
  {
   "cell_type": "code",
   "execution_count": 20,
   "metadata": {},
   "outputs": [
    {
     "data": {
      "text/plain": [
       "(3L, 1L)"
      ]
     },
     "execution_count": 20,
     "metadata": {},
     "output_type": "execute_result"
    }
   ],
   "source": [
    "import numpy as np\n",
    "b = np.array(a)\n",
    "b.shape"
   ]
  },
  {
   "cell_type": "code",
   "execution_count": 21,
   "metadata": {},
   "outputs": [],
   "source": [
    "a.append([1,3,4,])"
   ]
  },
  {
   "cell_type": "code",
   "execution_count": 24,
   "metadata": {},
   "outputs": [
    {
     "data": {
      "text/plain": [
       "(4L,)"
      ]
     },
     "execution_count": 24,
     "metadata": {},
     "output_type": "execute_result"
    }
   ],
   "source": [
    "np.array(a).shape"
   ]
  },
  {
   "cell_type": "code",
   "execution_count": null,
   "metadata": {},
   "outputs": [],
   "source": []
  }
 ],
 "metadata": {
  "kernelspec": {
   "display_name": "Python 2",
   "language": "python",
   "name": "python2"
  },
  "language_info": {
   "codemirror_mode": {
    "name": "ipython",
    "version": 2
   },
   "file_extension": ".py",
   "mimetype": "text/x-python",
   "name": "python",
   "nbconvert_exporter": "python",
   "pygments_lexer": "ipython2",
   "version": "2.7.9"
  }
 },
 "nbformat": 4,
 "nbformat_minor": 2
}
