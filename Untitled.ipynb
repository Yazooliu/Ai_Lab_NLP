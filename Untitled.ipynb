{
 "cells": [
  {
   "cell_type": "code",
   "execution_count": 2,
   "metadata": {},
   "outputs": [
    {
     "name": "stdout",
     "output_type": "stream",
     "text": [
      "('output>>> ', [4, 10, 18])\n",
      "('output>>> ', [4, 10, 18])\n",
      "('output>>> ', [4, 10, 18])\n"
     ]
    }
   ],
   "source": [
    "xy_map = map(lambda x,y:x*y,[1,2,3],[4,5,6])\n",
    "for i in xy_map:\n",
    "    print (\"output>>> \",xy_map)### Python3中，这个是迭代器"
   ]
  },
  {
   "cell_type": "code",
   "execution_count": 6,
   "metadata": {},
   "outputs": [],
   "source": [
    "import pandas \n",
    "y_train = ['technology','military']\n",
    "y_test = ['car','sports']\n",
    "cate_dic = {'technology':1,'car':2,'entertainment':3, 'military':4, 'sports':5}\n",
    "y_train = map(lambda x:cate_dic[x],y_train)\n",
    "y_test = map(lambda x:cate_dic[x],y_test)\n",
    "\n",
    "y_train1 =  pandas.Series(y_train)\n",
    "y_test1  =  pandas.Series(y_test)"
   ]
  },
  {
   "cell_type": "code",
   "execution_count": null,
   "metadata": {},
   "outputs": [],
   "source": []
  },
  {
   "cell_type": "code",
   "execution_count": 4,
   "metadata": {},
   "outputs": [
    {
     "data": {
      "text/plain": [
       "[1, 4]"
      ]
     },
     "execution_count": 4,
     "metadata": {},
     "output_type": "execute_result"
    }
   ],
   "source": [
    "y_train"
   ]
  },
  {
   "cell_type": "code",
   "execution_count": null,
   "metadata": {},
   "outputs": [],
   "source": []
  }
 ],
 "metadata": {
  "kernelspec": {
   "display_name": "Python 2",
   "language": "python",
   "name": "python2"
  },
  "language_info": {
   "codemirror_mode": {
    "name": "ipython",
    "version": 2
   },
   "file_extension": ".py",
   "mimetype": "text/x-python",
   "name": "python",
   "nbconvert_exporter": "python",
   "pygments_lexer": "ipython2",
   "version": "2.7.15"
  }
 },
 "nbformat": 4,
 "nbformat_minor": 2
}
