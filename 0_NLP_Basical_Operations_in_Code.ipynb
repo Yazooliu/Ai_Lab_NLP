{
 "cells": [
  {
   "cell_type": "code",
   "execution_count": 1,
   "metadata": {},
   "outputs": [],
   "source": [
    "### -------------\n",
    "#  Familiar with ds\n",
    "#  Purpose: \n",
    "#        NLP process basical skill \n",
    "#  Date:2018 - 11-22\n",
    "#  \n",
    "# "
   ]
  },
  {
   "cell_type": "markdown",
   "metadata": {},
   "source": [
    "### 1 字符串操作"
   ]
  },
  {
   "cell_type": "code",
   "execution_count": 2,
   "metadata": {},
   "outputs": [
    {
     "name": "stdout",
     "output_type": "stream",
     "text": [
      "hello, world!\n",
      "world! \n",
      " hello, world\n"
     ]
    }
   ],
   "source": [
    "# 去掉空格已经特殊符号\n",
    "s  = ' hello, world! '\n",
    "print(s.strip()) # 去掉空格\n",
    "print(s.lstrip(' hello, ')) # 去掉左边的hello \n",
    "print(s.rstrip('! '))  # 去掉右边的!及空格，因为原来字符串中就有 ！及空格"
   ]
  },
  {
   "cell_type": "code",
   "execution_count": 3,
   "metadata": {},
   "outputs": [
    {
     "name": "stdout",
     "output_type": "stream",
     "text": [
      "stractappend\n"
     ]
    }
   ],
   "source": [
    "# 链接字符串\n",
    "sStr1 = 'stract'\n",
    "sStr2 = 'append'\n",
    "sStr1 += sStr2\n",
    "print(sStr1)"
   ]
  },
  {
   "cell_type": "code",
   "execution_count": 4,
   "metadata": {},
   "outputs": [
    {
     "name": "stdout",
     "output_type": "stream",
     "text": [
      "position  in sStr1 is :  2\n"
     ]
    }
   ],
   "source": [
    "#查找字符\n",
    "# < 0 表示未找到\n",
    "sStr1 = 'strchar'\n",
    "sStr2 = 'r'\n",
    "nPos  = sStr1.index(sStr2)\n",
    "print(\"position  in sStr1 is : \", nPos)"
   ]
  },
  {
   "cell_type": "code",
   "execution_count": 17,
   "metadata": {},
   "outputs": [
    {
     "name": "stdout",
     "output_type": "stream",
     "text": [
      "False\n",
      "False\n",
      "True\n"
     ]
    }
   ],
   "source": [
    "# 比较字符串 \n",
    "# cmp 在python 不存在，所以在python 3 中不能使用\n",
    "sStr1 = 'strchar'\n",
    "sStr2 = 'strch'\n",
    "print(sStr1 is sStr2)\n",
    "print(sStr2 == sStr1)\n",
    "print(sStr1 is sStr1)"
   ]
  },
  {
   "cell_type": "code",
   "execution_count": 18,
   "metadata": {},
   "outputs": [
    {
     "name": "stdout",
     "output_type": "stream",
     "text": [
      "Upper case is :  JSCSDSDSOLEPSHJ\n",
      "Lower case is :  jscsdsdsolepshj\n"
     ]
    }
   ],
   "source": [
    "# 字符串的大小写转换\n",
    "sStr1 = 'JScsDsdsOlepSHJ'\n",
    "sStrlUpper = sStr1.upper()\n",
    "sStr1Lower = sStr1.lower()\n",
    "print ('Upper case is : ',sStrlUpper)\n",
    "print ('Lower case is : ',sStr1Lower)"
   ]
  },
  {
   "cell_type": "code",
   "execution_count": 19,
   "metadata": {},
   "outputs": [
    {
     "name": "stdout",
     "output_type": "stream",
     "text": [
      "sStr1翻转以后是: gfedcba\n"
     ]
    }
   ],
   "source": [
    "# 翻转字符串\n",
    "sStr1 = 'abcdefg'\n",
    "sStr1 = sStr1[::-1]\n",
    "print(\"sStr1翻转以后是:\",sStr1)"
   ]
  },
  {
   "cell_type": "code",
   "execution_count": 20,
   "metadata": {},
   "outputs": [
    {
     "name": "stdout",
     "output_type": "stream",
     "text": [
      "sStr1 is :  5\n"
     ]
    }
   ],
   "source": [
    "# 查找字符串\n",
    "# find(targerstring, startindex, endindex) # 查找不到target的字符串 返回-1 \n",
    "# \n",
    "sStr1  = 'dqse hyd jdhe b hyd ds e'\n",
    "sstr1  = 'hyd'\n",
    "sStr1  = sStr1.find(sstr1)\n",
    "print(\"sStr1 is : \", sStr1)"
   ]
  },
  {
   "cell_type": "code",
   "execution_count": 21,
   "metadata": {},
   "outputs": [
    {
     "name": "stdout",
     "output_type": "stream",
     "text": [
      "cde,fgh,ijk\n",
      "['ab', 'cde', 'fgh', 'ijk']\n"
     ]
    }
   ],
   "source": [
    "# 分割字符串\n",
    "sStr1   = 'ab,cde,fgh,ijk'\n",
    "sStr2   = ','\n",
    "sStr1   = sStr1[ sStr1.find(sStr2)+ 1: ] # 从索引index + 1 直到最后\n",
    "print(sStr1)\n",
    "\n",
    "# 或者\n",
    "s       = 'ab,cde,fgh,ijk' \n",
    "print(s.split(','))\n",
    "A,B,C,D = s.split(',')\n",
    "\n",
    "# output>>> \n",
    "# A = 'ab'\n",
    "# B = 'cde'\n",
    "# C = 'fgh'\n",
    "# D = 'ijk'"
   ]
  },
  {
   "cell_type": "code",
   "execution_count": 22,
   "metadata": {},
   "outputs": [],
   "source": [
    "sStr1= 'ds2ydsi390s.dsxdsdsdsddddddoaplsjhddseyneynedusowutfgsnbc,sws'"
   ]
  },
  {
   "cell_type": "code",
   "execution_count": 23,
   "metadata": {},
   "outputs": [],
   "source": [
    "# version 1 \n",
    "# 计算字符串中出现频次最多的字母\n",
    "import re \n",
    "from collections import Counter\n",
    "\n",
    "def get_max_value_1(text):\n",
    "    text    = text.lower()\n",
    "    result  = re.findall('[a-zA-Z]',text)  # 只留下大小写字母\n",
    "    count   = Counter(result) # e: dict = {'a':4 , 'd':8}\n",
    "    value_list = list(count.values())\n",
    "    max_value  = max(value_list)  # 出现的最大频次\n",
    "    max_list   = []\n",
    "    for k,v in count.items():\n",
    "        if v == max_value: \n",
    "            max_list.append(k)\n",
    "    #max_list  = sorted(max_list) # sorted 从低到高排序 0 -->>  1000..\n",
    "    #print(count.keys())\n",
    "    #print(count.values())\n",
    "    return (max_list[0])"
   ]
  },
  {
   "cell_type": "code",
   "execution_count": 10,
   "metadata": {},
   "outputs": [],
   "source": [
    "# version 2 \n",
    "from collections import Counter \n",
    "def get_max_value_2(text):\n",
    "    count = Counter([x for x in text.lower()if x.isalpha()])# 判断字符串中至少有一个字符且所有字符都是字母\n",
    "    m = max(count.values())\n",
    "    return (sorted([k for k,v in count.items() if v == m ])[0])"
   ]
  },
  {
   "cell_type": "code",
   "execution_count": 11,
   "metadata": {},
   "outputs": [
    {
     "data": {
      "text/plain": [
       "'d'"
      ]
     },
     "execution_count": 11,
     "metadata": {},
     "output_type": "execute_result"
    }
   ],
   "source": [
    "# version 3 \n",
    "import string \n",
    "def get_max_value_3(text):\n",
    "    text = text.lower()\n",
    "    # 返回字符串中按照字母表排序出现数量最多的字母\n",
    "    # string.ascii_lowercase 按照字母表排序，数量最多key= text.count 添加一个j键值\n",
    "    return max(string.ascii_lowercase,key = text.count)\n",
    "\n",
    "get_max_value_3(sStr1)"
   ]
  },
  {
   "cell_type": "code",
   "execution_count": 12,
   "metadata": {},
   "outputs": [],
   "source": [
    "## 计算消耗的时间多少："
   ]
  },
  {
   "cell_type": "code",
   "execution_count": 13,
   "metadata": {},
   "outputs": [
    {
     "name": "stdout",
     "output_type": "stream",
     "text": [
      "1: time used is : 0.028194334570997626 second \n"
     ]
    }
   ],
   "source": [
    "import time \n",
    "starttime  = time.clock()\n",
    "for i in range(0,400):\n",
    "    get_max_value_1(sStr1)\n",
    "endtime    = time.clock()\n",
    "print(\"1: time used is : %s second \" %(endtime - starttime))"
   ]
  },
  {
   "cell_type": "code",
   "execution_count": 14,
   "metadata": {},
   "outputs": [
    {
     "name": "stdout",
     "output_type": "stream",
     "text": [
      "2: time used is : 0.02575369992899823 second \n"
     ]
    }
   ],
   "source": [
    "starttime  = time.clock()\n",
    "for i in range(0,400):\n",
    "    get_max_value_2(sStr1)\n",
    "endtime    = time.clock()\n",
    "print(\"2: time used is : %s second \"%(endtime - starttime))"
   ]
  },
  {
   "cell_type": "code",
   "execution_count": 15,
   "metadata": {},
   "outputs": [
    {
     "name": "stdout",
     "output_type": "stream",
     "text": [
      "3: time used is : 0.009151994949348818 second \n"
     ]
    }
   ],
   "source": [
    "starttime  = time.clock()\n",
    "for i in range(0,400):\n",
    "    get_max_value_3(sStr1)\n",
    "endtime    = time.clock()\n",
    "print(\"3: time used is : %s second \" %(endtime - starttime))"
   ]
  },
  {
   "cell_type": "code",
   "execution_count": 24,
   "metadata": {},
   "outputs": [
    {
     "data": {
      "text/plain": [
       "'l'"
      ]
     },
     "execution_count": 24,
     "metadata": {},
     "output_type": "execute_result"
    }
   ],
   "source": [
    "max(range(6),key = lambda x:x>2)\n",
    "# >>> 3 \n",
    "# 输入key的函数中，各个元素返回布尔值，相当于[False,False,False,True,True,True]\n",
    "# key函数要求返回值为True，有多个符合的值，则挑选第一个\n",
    "\n",
    "max([3,5,2,1,4,3,0], key = lambda x:x)\n",
    "# >>> 5\n",
    "# 输入key的函数中，各个元素返回自身的值。最大的值时5，返回5\n",
    "\n",
    "\n",
    "max('ah','bf',key = lambda x:x[1])\n",
    "# >>> 'ah'\n",
    "# 带入key函数，各个字符串返回最有一个字符, 'ah'的'h'大于 'bf'中的'f',所以返回大的值,'ah'\n",
    "\n",
    "text = 'hello,world'\n",
    "max('adncdcdhdexusxhdshedsleisds',key = text.count)\n",
    "#  > 'l'\n",
    "#  带入key函数，返回各个字符在'hello,world'中出现最多的字符为'l',因此输出'l'"
   ]
  },
  {
   "cell_type": "code",
   "execution_count": 15,
   "metadata": {},
   "outputs": [
    {
     "name": "stdout",
     "output_type": "stream",
     "text": [
      "<map object at 0x0000000004B476A0>\n"
     ]
    },
    {
     "data": {
      "text/plain": [
       "6"
      ]
     },
     "execution_count": 15,
     "metadata": {},
     "output_type": "execute_result"
    }
   ],
   "source": [
    "## 计算字符串中出现字母最多的个数\n",
    "Str = 'cehdsjkliekldsoiemdsjS<SWndsyueiokwo1q'\n",
    "def string_count(str):\n",
    "    str = str.lower()\n",
    "    count_list =list(map(str.count,str))\n",
    "    print(map(str.count,str))\n",
    "    return max(count_list) # 字母出现最多的数字\n",
    "\n",
    "# application\n",
    "string_count(Str)"
   ]
  },
  {
   "cell_type": "code",
   "execution_count": 26,
   "metadata": {},
   "outputs": [
    {
     "name": "stdout",
     "output_type": "stream",
     "text": [
      "[0, 1, 2, 2, 3, 3, 3, 12, 20, 20.12, 90, 212, 9839]\n"
     ]
    }
   ],
   "source": [
    "### 快速排序算法\n",
    "dig = [1,2,3,3,2,90,12,3,212,9839,0,20.12,20]\n",
    "\n",
    "def quick_sort(array):\n",
    "    if len(array)<1:\n",
    "        return array\n",
    "    midel  = array[int(len(array)/2)]\n",
    "    left   = [x for x in array if x < midel]\n",
    "    middel = [x for x in array if x == midel]\n",
    "    right  = [x for x in array if x> midel]\n",
    "    return quick_sort(left) + middel + quick_sort(right)\n",
    "\n",
    "print(quick_sort(dig))"
   ]
  },
  {
   "cell_type": "code",
   "execution_count": null,
   "metadata": {},
   "outputs": [],
   "source": []
  },
  {
   "cell_type": "markdown",
   "metadata": {},
   "source": [
    "re 模块：\n",
    "Python 通过re 模块提供正则表达式的支持,使用re的一般步骤是：\n",
    "1. 将正则表达式的字符串形式编译成Pattern实例\n",
    "2. 使用pattern 实例处理文本并获得匹配结果(一个match实例)\n",
    "3. 使用match实例获得信息，进行其他的操作"
   ]
  },
  {
   "cell_type": "code",
   "execution_count": null,
   "metadata": {},
   "outputs": [],
   "source": []
  },
  {
   "cell_type": "code",
   "execution_count": 37,
   "metadata": {},
   "outputs": [
    {
     "name": "stdout",
     "output_type": "stream",
     "text": [
      "hello,hanxiaoyang!\n"
     ]
    }
   ],
   "source": [
    "#encoding:utf-8 \n",
    "import re \n",
    "# 将正则表达式编译成pattern对象\n",
    "pattern = re.compile(r'hello.*\\!') # 从hello开始直到找到! 为止\n",
    "\n",
    "# 使用pattern 匹配文本,获得匹配结果，无法匹配时返回None \n",
    "match  = pattern.match('hello,hanxiaoyang! How old are you ?')\n",
    "find1  = pattern.findall('hello,dseds!')\n",
    "# if - match \n",
    "if match: \n",
    "    # 使用match获得分组信息\n",
    "    print(match.group())"
   ]
  },
  {
   "cell_type": "markdown",
   "metadata": {},
   "source": [
    "re.compile(strPattern[,flag]):\n",
    "1. 这个方法是Pattern类的方法，用于将字符串形式的正则表达式编译成Pattern对象.\n",
    "2. 第二个参数flag是匹配模式，取值可以使用按位或运算符\"|\" 表示同时生效，比如re.l|re.m "
   ]
  },
  {
   "cell_type": "code",
   "execution_count": 5,
   "metadata": {},
   "outputs": [
    {
     "name": "stdout",
     "output_type": "stream",
     "text": [
      "['one', 'two', 'three', 'four', 'five', 'six', '']\n"
     ]
    }
   ],
   "source": [
    "# 分割字符串的操作\n",
    "import re \n",
    "p = re.compile(r'\\d+')  # \\d 表示所以数字， + 表示>=1 的情况， \n",
    "print (p.split('one1two2three3four4five5six6'))"
   ]
  },
  {
   "cell_type": "code",
   "execution_count": 6,
   "metadata": {},
   "outputs": [
    {
     "name": "stdout",
     "output_type": "stream",
     "text": [
      "['1', '2', '3', '4', '5', '6']\n"
     ]
    }
   ],
   "source": [
    "# 寻找匹配字符串的操作\n",
    "import re \n",
    "p = re.compile(r'\\d+')\n",
    "print(p.findall('one1two2three3four4five5six6'))  # 找到所有的数字"
   ]
  },
  {
   "cell_type": "code",
   "execution_count": 17,
   "metadata": {},
   "outputs": [
    {
     "name": "stdout",
     "output_type": "stream",
     "text": [
      "that saw i a are you right guy good ?\n",
      "('that i saw a you are right good guy ?', 3)\n"
     ]
    }
   ],
   "source": [
    "# 字符串的顺序做颠倒处理\n",
    "p  = re.compile(r'(\\w+) (\\w+) (\\w+)') #字母用w表示 + 表示大于等于1个; 将\\w+ 分成3个组并由空格区分 隔开\n",
    "s  = 'i saw that you are a good guy right ?'\n",
    "\n",
    "print(p.sub(r'\\3 \\2 \\1',s)) # 上述p 分成三组，这里按照3 2 1 的顺序三个一组依次调换输出\n",
    "\n",
    "def exchange_order(m):\n",
    "    return m.group(1) + ' ' + m.group(2) + ' '+ m.group(3).title()\n",
    "\n",
    "# subn  (rept,string[,count]) - 返回(sub(rep,string[,count]), 替换的次数)\n",
    "print(p.subn(r'\\3 \\1 \\2',s))"
   ]
  },
  {
   "cell_type": "code",
   "execution_count": 18,
   "metadata": {},
   "outputs": [
    {
     "data": {
      "text/plain": [
       "'i saw That you are A good guy Right ?'"
      ]
     },
     "execution_count": 18,
     "metadata": {},
     "output_type": "execute_result"
    }
   ],
   "source": [
    "p.sub(exchange_order,s)"
   ]
  },
  {
   "cell_type": "markdown",
   "metadata": {},
   "source": [
    "### Jieba中文处理"
   ]
  },
  {
   "cell_type": "code",
   "execution_count": 20,
   "metadata": {},
   "outputs": [],
   "source": [
    "# 1. 基本分词函数与用法\n",
    "# jieba.cut() 以及jieba.cut_for_search() 返回的结构都是一个可以迭代的generator. \n",
    "# 可使用for 循环来获得分词后得到的每一个词语(unicode)\n",
    "# jieba.cut 方法接受三个输入参数：\n",
    "# 1.需要分词的字符串\n",
    "# 2.cut_all 参数用来控制是否采用全模式\n",
    "# 3.HMM参数用来控制是否使用HMM模型\n",
    "\n",
    "# jieba.cut_for_search 方法接收两个参数\n",
    "#  1.需要分词的字符串\n",
    "#  2. 是否使用HMM模型 - 隐形马尔科夫模型\n",
    "\n",
    "# 该方法适用于搜索引擎购进倒排序索引的分词，颗粒比较细\n"
   ]
  },
  {
   "cell_type": "markdown",
   "metadata": {},
   "source": [
    "#### 1. jieba.cut and jieba.cut_for_search"
   ]
  },
  {
   "cell_type": "code",
   "execution_count": 43,
   "metadata": {},
   "outputs": [
    {
     "name": "stdout",
     "output_type": "stream",
     "text": [
      "<generator object Tokenizer.cut at 0x0000000008FFA518>\n",
      "Full    Mode: 我/在/学习/自然/自然语言/语言/处理\n",
      "Default Mode: 我/在/学习/自然语言/处理\n",
      "搜索引擎模式: 小明,硕士,毕业,于,中国,科学,学院,科学院,中国科学院,研究,研究所,，,后来,在,哈佛,大学,哈佛大学,继续,深造,学习\n"
     ]
    }
   ],
   "source": [
    "# encoding = utf-8\n",
    "import jieba\n",
    "seg_list = jieba.cut('我在学习自然语言处理',cut_all = True)\n",
    "print(seg_list)\n",
    "print(\"Full    Mode: \" + \"/\".join(seg_list))  # 全模式:从前到后，将可以的全部取出来：自然/自然语言\n",
    "\n",
    "seg_list = jieba.cut('我在学习自然语言处理',cut_all = False)\n",
    "print(\"Default Mode: \" + \"/\".join(seg_list))  # 精简模式：从前到后，将准备的取出来: 自然语言\n",
    "\n",
    "seg_list = jieba.cut_for_search(\"小明硕士毕业于中国科学院研究所，后来在哈佛大学继续深造学习\")\n",
    "print(\"搜索引擎模式: \"+\",\".join(seg_list))    # 更可能的都搜索出来   "
   ]
  },
  {
   "cell_type": "markdown",
   "metadata": {},
   "source": [
    "#### 2. jieba.lcut and jieba.lcut_for_search 返回list"
   ]
  },
  {
   "cell_type": "code",
   "execution_count": 50,
   "metadata": {},
   "outputs": [
    {
     "name": "stdout",
     "output_type": "stream",
     "text": [
      "1:  ['小明', '硕士', '毕业', '于', '中国科学院', '研究所', '，', '后来', '在', '哈佛大学', '继续', '深造', '学习']\n",
      "2: 小明 硕士 毕业 于 中国科学院 研究所 ， 后来 在 哈佛大学 继续 深造 学习\n",
      "3: 小明 硕士 毕业 于 中国 科学 学院 科学院 中国科学院 研究 研究所 ， 后来 在 哈佛 大学 哈佛大学 继续 深造 学习\n"
     ]
    }
   ],
   "source": [
    "result_lcut = jieba.lcut(\"小明硕士毕业于中国科学院研究所，后来在哈佛大学继续深造学习\");\n",
    "print(\"1: \",result_lcut) # return list \n",
    "print(\"2: \"+ \" \".join(result_lcut))\n",
    "print(\"3: \" + \" \".join(jieba.lcut_for_search(\"小明硕士毕业于中国科学院研究所，后来在哈佛大学继续深造学习\")))"
   ]
  },
  {
   "cell_type": "code",
   "execution_count": 21,
   "metadata": {},
   "outputs": [],
   "source": [
    "### 添加用户自定义词典\n",
    "# 很多时候我们需要针对自己的场景来进行分词，会有一些领域内的专用词汇\n",
    "# 1. 可以使用jieba.load_userdict(file_name)\n",
    "# 2. 少量的才会可以自己使用下面的方法手动添加：#\n",
    "# 3. 用add_word(word,freq=None,tag = None)和del_word(word)在程序中动态修改词典\n",
    "# 4. 用suggest_freq(segment,tune = True) 可调节单个词语的词频，使其能（或者不能）被区分出来\n"
   ]
  },
  {
   "cell_type": "code",
   "execution_count": 1,
   "metadata": {},
   "outputs": [
    {
     "name": "stderr",
     "output_type": "stream",
     "text": [
      "Building prefix dict from the default dictionary ...\n",
      "Loading model from cache C:\\Users\\Yazhou\\AppData\\Local\\Temp\\jieba.cache\n",
      "Loading model cost 3.204 seconds.\n",
      "Prefix dict has been built succesfully.\n"
     ]
    },
    {
     "name": "stdout",
     "output_type": "stream",
     "text": [
      "如果/放在/旧/的/字典/中将/出错\n"
     ]
    }
   ],
   "source": [
    "import jieba\n",
    "print(\"/\".join(jieba.cut('如果放在旧的字典中将出错',HMM = False)))"
   ]
  },
  {
   "cell_type": "code",
   "execution_count": 30,
   "metadata": {},
   "outputs": [
    {
     "data": {
      "text/plain": [
       "494"
      ]
     },
     "execution_count": 30,
     "metadata": {},
     "output_type": "execute_result"
    }
   ],
   "source": [
    "# 添加人为纠错\n",
    "jieba.suggest_freq(segment =('中','将'),tune = True)"
   ]
  },
  {
   "cell_type": "code",
   "execution_count": 2,
   "metadata": {},
   "outputs": [
    {
     "name": "stdout",
     "output_type": "stream",
     "text": [
      "如果/放在/旧/字/的/字典/中将/出错\n"
     ]
    }
   ],
   "source": [
    "print(\"/\".join(jieba.cut('如果放在旧字的字典中将出错',HMM = False)))"
   ]
  },
  {
   "cell_type": "markdown",
   "metadata": {},
   "source": [
    "### 关键词提取\n",
    "##### 基于TF-IDF的算法关键词抽取"
   ]
  },
  {
   "cell_type": "code",
   "execution_count": 3,
   "metadata": {},
   "outputs": [],
   "source": [
    "#import jieba.analyse\n",
    "# jieba.analyse.extract_tags(sentence,topK = 20,withWeight = False,allowPos =())\n",
    "# sentence 为待提取的文本\n",
    "# topK 为返回几个TF/IDF 权重最大的关键值，默认值为20\n",
    "# withWeight 为是否一并返回关键词权重值，默认为False\n",
    "# allowPos 仅包括制定词性的词，默认值为空，即不筛选"
   ]
  },
  {
   "cell_type": "markdown",
   "metadata": {},
   "source": [
    "#### open 读取本地文件: NBA.txt"
   ]
  },
  {
   "cell_type": "code",
   "execution_count": 4,
   "metadata": {},
   "outputs": [
    {
     "data": {
      "text/plain": [
       "'韦少,杜兰特,全明星,全明星赛,MVP'"
      ]
     },
     "execution_count": 4,
     "metadata": {},
     "output_type": "execute_result"
    }
   ],
   "source": [
    "import jieba.analyse as analyse \n",
    "lines = open('./data/NBA.txt',mode = 'r',encoding = 'utf-8').read()\n",
    "\",\".join(analyse.extract_tags(lines,topK = 5,withWeight = False, allowPOS = ()))"
   ]
  },
  {
   "cell_type": "markdown",
   "metadata": {},
   "source": [
    "#### open 读取西游记中的内容，提取出关键词"
   ]
  },
  {
   "cell_type": "code",
   "execution_count": 5,
   "metadata": {},
   "outputs": [
    {
     "data": {
      "text/plain": [
       "'行者/八戒/师父/三藏/唐僧/大圣/沙僧'"
      ]
     },
     "execution_count": 5,
     "metadata": {},
     "output_type": "execute_result"
    }
   ],
   "source": [
    "import jieba\n",
    "Local_File =  open('./data/西游记.txt',mode = 'r',encoding = 'utf-8').read()\n",
    "\"/\".join(jieba.analyse.extract_tags(Local_File,topK = 7, withWeight = False,allowPOS = ()))"
   ]
  },
  {
   "cell_type": "code",
   "execution_count": 7,
   "metadata": {},
   "outputs": [
    {
     "name": "stdout",
     "output_type": "stream",
     "text": [
      "关键字是：鲁能/崔鹏/足协杯/主场/国安/出场/扳平/冠军/换人\n"
     ]
    }
   ],
   "source": [
    "### 读取足协杯中的内容\n",
    "import jieba\n",
    "Local_File =  open('./data/足球.txt',mode = 'r',encoding = 'utf-8').read()\n",
    "print(\"关键字是：\" + \"/\" .join(jieba.analyse.extract_tags(Local_File,topK = 9, withWeight = False,allowPOS = ())))"
   ]
  },
  {
   "cell_type": "markdown",
   "metadata": {},
   "source": [
    "### 基于TextRank算法的关键词抽取"
   ]
  },
  {
   "cell_type": "code",
   "execution_count": 86,
   "metadata": {},
   "outputs": [],
   "source": [
    "#算法的基本思想：\n",
    "#1. 将抽取关键词的文本进行分词\n",
    "#2. 以固定窗口大小（默认是5,通过span属性调整），词之间的共同出现的关系，构件图\n",
    "#3. 计算图中节点的PageRank,注意是无向带权图"
   ]
  },
  {
   "cell_type": "code",
   "execution_count": 14,
   "metadata": {},
   "outputs": [
    {
     "name": "stdout",
     "output_type": "stream",
     "text": [
      "行者/师父/八戒\n",
      "----------------我是神奇的分割线---------------\n"
     ]
    }
   ],
   "source": [
    "import jieba\n",
    "import jieba.analyse as analyse\n",
    "Reading_File = open('./data/西游记.txt',mode ='r',encoding = 'utf-8').read()\n",
    "#\"/\".join(jieba.analyse.extract_tags(Reading_File,topK = 4, withWeight = False,allowPOS = () ))\n",
    "print(\"/\".join(jieba.analyse.textrank(Reading_File,topK = 3, withWeight = False,allowPOS = ('n','ns','v'))))\n",
    "\n",
    "print(\"----------------我是神奇的分割线---------------\")"
   ]
  },
  {
   "cell_type": "markdown",
   "metadata": {},
   "source": [
    "#### 词性标注"
   ]
  },
  {
   "cell_type": "code",
   "execution_count": 15,
   "metadata": {},
   "outputs": [],
   "source": [
    "### 词性标注\n",
    "# jieba.posseg.POSTokenizer(tokenizer = None)新建自定义分词器\n",
    "# tokenizer 参数可制定内部使用的jieba.Tokenizer分词器。\n",
    "# jieba.posseg.dt为默认的词性标注分类器\n",
    "# 标注句子分词后每个词的词性。采用和ictclas兼容的标记方法\n",
    "#  "
   ]
  },
  {
   "cell_type": "code",
   "execution_count": 13,
   "metadata": {},
   "outputs": [
    {
     "name": "stdout",
     "output_type": "stream",
     "text": [
      "我,r\n",
      "特别,d\n",
      "喜欢,v\n",
      "看,v\n",
      "足球赛,n\n"
     ]
    }
   ],
   "source": [
    "import jieba.posseg as pseg\n",
    "words = pseg.cut(\"我特别喜欢看足球赛\")\n",
    "for word,flag in words:\n",
    "    print(\"%s,%s\" %(word,flag))\n",
    "    "
   ]
  },
  {
   "cell_type": "markdown",
   "metadata": {},
   "source": [
    "#### 并行分词"
   ]
  },
  {
   "cell_type": "code",
   "execution_count": 1,
   "metadata": {},
   "outputs": [],
   "source": [
    "# 原理：将目标文本按照行分割后，把各行文本分配给多个Python\n",
    "# 进程进行分词，然后合并结果。\n",
    "# 从而获得分词速度的可观提升。\n",
    "# 基于python 自带的multiprocessing 模块，目前不支持windows\n",
    "# 用法：\n",
    "#      jieba.enable_parallel(4)    # 开启并行分词模式，参数为并行进程数目\n",
    "#      jieba.disable_parallel      # 关闭并行分词模式\n",
    "# 实验结果：\n",
    "#      \n",
    "# 注意：\n",
    "#     并行分词仅支持默认分词器jieba.dt 和 jieba.posseg.dt"
   ]
  },
  {
   "cell_type": "code",
   "execution_count": 8,
   "metadata": {},
   "outputs": [
    {
     "name": "stdout",
     "output_type": "stream",
     "text": [
      "未并行处理数据的速度 是32862.08120638162 bytes/seconds\n"
     ]
    }
   ],
   "source": [
    "import sys\n",
    "import time\n",
    "import jieba\n",
    "#jieba.enable_parallel()  #  这个目前无法支持windows，所以不能在此使用并行处理细节\n",
    "start_time       = time.time()\n",
    "jiebacut_content = open('./data/西游记.txt',mode ='r',encoding = 'utf-8').read()\n",
    "jieba_words      = \".\".join(jieba.cut(jiebacut_content))\n",
    "end_time         = time.time()\n",
    "\n",
    "# cost time \n",
    "cost_time        = end_time -  start_time\n",
    "print(\"未并行处理数据的速度 是%s bytes/seconds\" %(len(jiebacut_content)/cost_time) )"
   ]
  },
  {
   "cell_type": "markdown",
   "metadata": {},
   "source": [
    "### Tokenize：返回词语在原文中的起止位置"
   ]
  },
  {
   "cell_type": "code",
   "execution_count": 35,
   "metadata": {},
   "outputs": [
    {
     "name": "stdout",
     "output_type": "stream",
     "text": [
      "这是默认模式的Tokenize:\n",
      "----------------------\n",
      "现代\t startindex:0; endindex:2 \n",
      "机器\t startindex:2; endindex:4 \n",
      "学习\t startindex:4; endindex:6 \n",
      "自然语言\t startindex:6; endindex:10 \n",
      "处理\t startindex:10; endindex:12 \n",
      "非常\t startindex:12; endindex:14 \n",
      "有用\t startindex:14; endindex:16 \n",
      "的\t startindex:16; endindex:17 \n",
      "先父\t startindex:17; endindex:19 \n",
      "是\t startindex:19; endindex:20 \n",
      "我\t startindex:20; endindex:21 \n",
      "研究院\t startindex:21; endindex:24 \n",
      "\n",
      "\n",
      "这是搜索模式的Tokenize:\n",
      "现代\t startindex:0; endindex:2 \n",
      "机器\t startindex:2; endindex:4 \n",
      "学习\t startindex:4; endindex:6 \n",
      "自然语言\t startindex:6; endindex:10 \n",
      "处理\t startindex:10; endindex:12 \n",
      "非常\t startindex:12; endindex:14 \n",
      "有用\t startindex:14; endindex:16 \n",
      "的\t startindex:16; endindex:17 \n",
      "先父\t startindex:17; endindex:19 \n",
      "是\t startindex:19; endindex:20 \n",
      "我\t startindex:20; endindex:21 \n",
      "研究院\t startindex:21; endindex:24 \n"
     ]
    }
   ],
   "source": [
    "print('这是默认模式的Tokenize:')\n",
    "print('----------------------')\n",
    "result = jieba.tokenize(\"现代机器学习自然语言处理非常有用的先父是我研究院\")\n",
    "for tk in result:\n",
    "    print(\"%s\\t startindex:%d; endindex:%d \" %(tk[0],tk[1],tk[2]))\n",
    "print('\\n')\n",
    "print('这是搜索模式的Tokenize:')\n",
    "serachmoderesult =  jieba.tokenize(\"现代机器学习自然语言处理非常有用的先父是我研究院\")\n",
    "for stk in serachmoderesult:\n",
    "    print(\"%s\\t startindex:%d; endindex:%d \" %(stk[0],stk[1],stk[2]))\n",
    "    "
   ]
  },
  {
   "cell_type": "markdown",
   "metadata": {},
   "source": [
    "### Python 实例： re 模块"
   ]
  },
  {
   "cell_type": "code",
   "execution_count": 2,
   "metadata": {},
   "outputs": [],
   "source": [
    "# python 通过re 模块提供正则表达式的支持\n",
    "# 方法:\n",
    "# 1.将正则表达式的字符串形式编译成Pattern实例\n",
    "# 2.使用pattern 实例处理文本并获得匹配结果\n",
    "# 3.使用Match 实例获得信息，并进行其他的操作"
   ]
  },
  {
   "cell_type": "code",
   "execution_count": 11,
   "metadata": {},
   "outputs": [
    {
     "name": "stdout",
     "output_type": "stream",
     "text": [
      "Hello,LiuYazhou!\n"
     ]
    }
   ],
   "source": [
    "#encoding:utf-8\n",
    "import re \n",
    "pattern = re.compile('Hello.*\\!')  # 从hello 开始都! 结束，中间的不做限制\n",
    "match   = pattern.match(\"Hello,LiuYazhou! How are you doing? \")\n",
    "print(match.group())"
   ]
  },
  {
   "cell_type": "code",
   "execution_count": null,
   "metadata": {},
   "outputs": [],
   "source": []
  }
 ],
 "metadata": {
  "kernelspec": {
   "display_name": "Python 3",
   "language": "python",
   "name": "python3"
  },
  "language_info": {
   "codemirror_mode": {
    "name": "ipython",
    "version": 3
   },
   "file_extension": ".py",
   "mimetype": "text/x-python",
   "name": "python",
   "nbconvert_exporter": "python",
   "pygments_lexer": "ipython3",
   "version": "3.5.2"
  }
 },
 "nbformat": 4,
 "nbformat_minor": 2
}
